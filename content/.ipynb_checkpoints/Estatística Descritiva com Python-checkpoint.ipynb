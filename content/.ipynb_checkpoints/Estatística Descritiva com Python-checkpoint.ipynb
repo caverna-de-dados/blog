{
 "cells": [
  {
   "cell_type": "markdown",
   "metadata": {},
   "source": [
    "A Estatística pode ser definida de forma simplificada e resumida, como: uma subárea da Matemática que busca estudar, descrever, interpretar e organizar a informação, através da coleta, descrição e análise de dados.\n",
    "\n",
    "Assim, obviamente, a Estatística é considerada um dos pilares fundamentais em Data Science, juntamente com a parte de Tecnologia e Negócios.\n",
    "\n",
    "Neste post, vamos ver e aplicar através da linguagem Python alguns dos conceitos mais básicos da Estatística Descritiva, uma das subdivisões da Estatística, responsável principalmente pelo resumo e descrição da informação.\n",
    "\n",
    "Para isso, vamos utilizar alguns dos principais pacotes open-source e gratuitos voltados à análise de dados que compõem a **Toolbox de um Data Scientist**. São eles: Pandas e Matplotlib.\n",
    "\n",
    "Para aplicar os conceitos, usaremos o Dataset da famosa [Competição do Titanic](https://www.kaggle.com/c/titanic) no Kaggle (Titanic: Machine Learning from Disaster).\n",
    "\n",
    "E por final, para auxiliar na estrutura, o post está baseando no excelente livro Estatística Básica, do professor adjunto da Escola de Administração de Empresas da FGV, Wilton Bussab, e do professor titular do Instituto de Matemática e Estatística da Universidade de São Paulo (IME), Pedro Morettin. Todas as demais referências e links estarão ao final do post."
   ]
  },
  {
   "cell_type": "markdown",
   "metadata": {},
   "source": [
    "## Preparação dos Pacotes e Dataset\n",
    "\n",
    "Antes de qualquer coisa, precisamos importar os pacotes que utilizaremos. São eles:\n",
    "\n",
    "- Pandas. Pandas é um poderoso pacote de análise de dados com linguagem Python. Ele permite, por exemplo, que trabalhemos facilmente com Dataframes, consigamos informações estatísticas das nossas variáveis e até mesmo plotar gráficos.\n",
    "\n",
    "- Matplotlib. O Matplotlib é uma das principais bibliotecas para plotar gráficos em Python, com ele é possível plotar gráficos de linha, barras, setor, histogramas e até graficos em 3D."
   ]
  },
  {
   "cell_type": "code",
   "execution_count": 2,
   "metadata": {},
   "outputs": [],
   "source": [
    "import pandas as pd\n",
    "import matplotlib.pyplot as plt\n",
    "# O comando abaixo é um comando específico do Jupyter Notebook, ele é utilizado para que o Matplotlib não abra uma nova página para plotar os gráficos e plote no output da célula.\n",
    "%matplotlib inline"
   ]
  },
  {
   "cell_type": "code",
   "execution_count": 39,
   "metadata": {},
   "outputs": [],
   "source": [
    "# Configurações dos Gráficos\n",
    "plt.style.use('ggplot')"
   ]
  },
  {
   "cell_type": "markdown",
   "metadata": {},
   "source": [
    "Agora que já importamos os pacotes, vamos usar a função `pd.read_csv()` do Pandas para importar o Dataset da Competição do Titanic e salvá-lo na variável `df`. Apenas o arquivo \"train.csv\" de teste já é suficiente para o que precisamos.\n",
    "\n",
    "Após isso, utilizamos o método `.head()` para visualizar os cinco primeiros registros do nosso Dataframe."
   ]
  },
  {
   "cell_type": "code",
   "execution_count": 4,
   "metadata": {},
   "outputs": [
    {
     "data": {
      "text/html": [
       "<div>\n",
       "<style scoped>\n",
       "    .dataframe tbody tr th:only-of-type {\n",
       "        vertical-align: middle;\n",
       "    }\n",
       "\n",
       "    .dataframe tbody tr th {\n",
       "        vertical-align: top;\n",
       "    }\n",
       "\n",
       "    .dataframe thead th {\n",
       "        text-align: right;\n",
       "    }\n",
       "</style>\n",
       "<table border=\"1\" class=\"dataframe\">\n",
       "  <thead>\n",
       "    <tr style=\"text-align: right;\">\n",
       "      <th></th>\n",
       "      <th>PassengerId</th>\n",
       "      <th>Survived</th>\n",
       "      <th>Pclass</th>\n",
       "      <th>Name</th>\n",
       "      <th>Sex</th>\n",
       "      <th>Age</th>\n",
       "      <th>SibSp</th>\n",
       "      <th>Parch</th>\n",
       "      <th>Ticket</th>\n",
       "      <th>Fare</th>\n",
       "      <th>Cabin</th>\n",
       "      <th>Embarked</th>\n",
       "    </tr>\n",
       "  </thead>\n",
       "  <tbody>\n",
       "    <tr>\n",
       "      <td>0</td>\n",
       "      <td>1</td>\n",
       "      <td>0</td>\n",
       "      <td>3</td>\n",
       "      <td>Braund, Mr. Owen Harris</td>\n",
       "      <td>male</td>\n",
       "      <td>22.0</td>\n",
       "      <td>1</td>\n",
       "      <td>0</td>\n",
       "      <td>A/5 21171</td>\n",
       "      <td>7.2500</td>\n",
       "      <td>NaN</td>\n",
       "      <td>S</td>\n",
       "    </tr>\n",
       "    <tr>\n",
       "      <td>1</td>\n",
       "      <td>2</td>\n",
       "      <td>1</td>\n",
       "      <td>1</td>\n",
       "      <td>Cumings, Mrs. John Bradley (Florence Briggs Th...</td>\n",
       "      <td>female</td>\n",
       "      <td>38.0</td>\n",
       "      <td>1</td>\n",
       "      <td>0</td>\n",
       "      <td>PC 17599</td>\n",
       "      <td>71.2833</td>\n",
       "      <td>C85</td>\n",
       "      <td>C</td>\n",
       "    </tr>\n",
       "    <tr>\n",
       "      <td>2</td>\n",
       "      <td>3</td>\n",
       "      <td>1</td>\n",
       "      <td>3</td>\n",
       "      <td>Heikkinen, Miss. Laina</td>\n",
       "      <td>female</td>\n",
       "      <td>26.0</td>\n",
       "      <td>0</td>\n",
       "      <td>0</td>\n",
       "      <td>STON/O2. 3101282</td>\n",
       "      <td>7.9250</td>\n",
       "      <td>NaN</td>\n",
       "      <td>S</td>\n",
       "    </tr>\n",
       "    <tr>\n",
       "      <td>3</td>\n",
       "      <td>4</td>\n",
       "      <td>1</td>\n",
       "      <td>1</td>\n",
       "      <td>Futrelle, Mrs. Jacques Heath (Lily May Peel)</td>\n",
       "      <td>female</td>\n",
       "      <td>35.0</td>\n",
       "      <td>1</td>\n",
       "      <td>0</td>\n",
       "      <td>113803</td>\n",
       "      <td>53.1000</td>\n",
       "      <td>C123</td>\n",
       "      <td>S</td>\n",
       "    </tr>\n",
       "    <tr>\n",
       "      <td>4</td>\n",
       "      <td>5</td>\n",
       "      <td>0</td>\n",
       "      <td>3</td>\n",
       "      <td>Allen, Mr. William Henry</td>\n",
       "      <td>male</td>\n",
       "      <td>35.0</td>\n",
       "      <td>0</td>\n",
       "      <td>0</td>\n",
       "      <td>373450</td>\n",
       "      <td>8.0500</td>\n",
       "      <td>NaN</td>\n",
       "      <td>S</td>\n",
       "    </tr>\n",
       "  </tbody>\n",
       "</table>\n",
       "</div>"
      ],
      "text/plain": [
       "   PassengerId  Survived  Pclass  \\\n",
       "0            1         0       3   \n",
       "1            2         1       1   \n",
       "2            3         1       3   \n",
       "3            4         1       1   \n",
       "4            5         0       3   \n",
       "\n",
       "                                                Name     Sex   Age  SibSp  \\\n",
       "0                            Braund, Mr. Owen Harris    male  22.0      1   \n",
       "1  Cumings, Mrs. John Bradley (Florence Briggs Th...  female  38.0      1   \n",
       "2                             Heikkinen, Miss. Laina  female  26.0      0   \n",
       "3       Futrelle, Mrs. Jacques Heath (Lily May Peel)  female  35.0      1   \n",
       "4                           Allen, Mr. William Henry    male  35.0      0   \n",
       "\n",
       "   Parch            Ticket     Fare Cabin Embarked  \n",
       "0      0         A/5 21171   7.2500   NaN        S  \n",
       "1      0          PC 17599  71.2833   C85        C  \n",
       "2      0  STON/O2. 3101282   7.9250   NaN        S  \n",
       "3      0            113803  53.1000  C123        S  \n",
       "4      0            373450   8.0500   NaN        S  "
      ]
     },
     "execution_count": 4,
     "metadata": {},
     "output_type": "execute_result"
    }
   ],
   "source": [
    "df = pd.read_csv(\"train.csv\")\n",
    "df.head()"
   ]
  },
  {
   "cell_type": "markdown",
   "metadata": {},
   "source": [
    "## Resumo de Dados\n",
    "\n",
    "- **Distribuição de Frequências**\n",
    "\n",
    "Quando falamos de Estatística Descritiva, estamos buscando compreender melhor o comportamento das variáveis com que estamos trabalhando. Um dos conceitos mais básicos empregado nesta tarefa é a noção de ***Distribuição de Frequências,*** que procura resumir o comportamento de uma variável pela contabilização da frequência dos registros contidos nela.\n",
    "\n",
    "Por exemplo, podemos querer saber a quantidade de tripulantes do sexo masculino e femino. Para isso, precisamos da *distribuição de frequências* da variável Sex.\n",
    "\n",
    "Para obtermos a *distribuição de frequências* de uma variável com o Pandas, podemos simplesmente utilizar o método `.value_counts()`, que irá retornar a frequência que cada registro único possui naquela variável."
   ]
  },
  {
   "cell_type": "code",
   "execution_count": 5,
   "metadata": {},
   "outputs": [
    {
     "name": "stdout",
     "output_type": "stream",
     "text": [
      "Quantidade de tripulantes do sexo masculino(male) e feminino(female): \n"
     ]
    },
    {
     "data": {
      "text/plain": [
       "male      577\n",
       "female    314\n",
       "Name: Sex, dtype: int64"
      ]
     },
     "execution_count": 5,
     "metadata": {},
     "output_type": "execute_result"
    }
   ],
   "source": [
    "print('Quantidade de tripulantes do sexo masculino(male) e feminino(female): ')\n",
    "df['Sex'].value_counts()"
   ]
  },
  {
   "cell_type": "markdown",
   "metadata": {},
   "source": [
    "Utilizando apenas o método `.value_counts()` sem nenhum parâmetro, conseguimos obter a frequência de cada registro da variável, ou seja, a *distribuição de frequências absoluta*. Se quisermos saber qual a *distribuição de frequências relativa*, isto é, o quanto a quantidade de cada registro único representa no total de observações da variável, podemos passar o parâmetro `.value_counts(normalize=True)`"
   ]
  },
  {
   "cell_type": "code",
   "execution_count": 6,
   "metadata": {},
   "outputs": [
    {
     "name": "stdout",
     "output_type": "stream",
     "text": [
      "Quantidade de tripulantes do sexo masculino(male) e feminino(female) percentualmente: \n"
     ]
    },
    {
     "data": {
      "text/plain": [
       "male      0.647587\n",
       "female    0.352413\n",
       "Name: Sex, dtype: float64"
      ]
     },
     "execution_count": 6,
     "metadata": {},
     "output_type": "execute_result"
    }
   ],
   "source": [
    "print('Quantidade de tripulantes do sexo masculino(male) e feminino(female) percentualmente: ')\n",
    "df['Sex'].value_counts(normalize=True)"
   ]
  },
  {
   "cell_type": "markdown",
   "metadata": {},
   "source": [
    "Como podemos ver, a *distribuição de frequências relativa* nos mostra que dentro da variável Sex, temos aproximadamente 65% de pessoas do sexo masculino e aproximadamente 35% do sexo feminino.\n",
    "\n",
    "Uma outra forma de olhar para a distribuição de frequências de uma variável, é através da *distribuição de frequências acumulada*. A *distribuição de frequências acumulada* indica quantos elementos ou que percentual deles estão abaixo de determiado valor.\n",
    "\n",
    "Para isso, podemos aplicar o método `.cumsum()` do Pandas juntamente com o `.value_counts()`, para que ele retorne uma série cumulativa das frequências.\n",
    "\n",
    "Por exemplo, vamos obter a *distribuição de frequências acumulada* da variável Embarked, que se refere ao portão de embarque da tripulação, comparativamente as *distribuição de frequências absoluta*:"
   ]
  },
  {
   "cell_type": "code",
   "execution_count": 7,
   "metadata": {},
   "outputs": [
    {
     "data": {
      "text/html": [
       "<div>\n",
       "<style scoped>\n",
       "    .dataframe tbody tr th:only-of-type {\n",
       "        vertical-align: middle;\n",
       "    }\n",
       "\n",
       "    .dataframe tbody tr th {\n",
       "        vertical-align: top;\n",
       "    }\n",
       "\n",
       "    .dataframe thead th {\n",
       "        text-align: right;\n",
       "    }\n",
       "</style>\n",
       "<table border=\"1\" class=\"dataframe\">\n",
       "  <thead>\n",
       "    <tr style=\"text-align: right;\">\n",
       "      <th></th>\n",
       "      <th>Distribuição de Frequências Absoluta - Pclass</th>\n",
       "      <th>Distribuição de Frequências Acumulada - Pclass</th>\n",
       "    </tr>\n",
       "  </thead>\n",
       "  <tbody>\n",
       "    <tr>\n",
       "      <td>S</td>\n",
       "      <td>644</td>\n",
       "      <td>644</td>\n",
       "    </tr>\n",
       "    <tr>\n",
       "      <td>C</td>\n",
       "      <td>168</td>\n",
       "      <td>812</td>\n",
       "    </tr>\n",
       "    <tr>\n",
       "      <td>Q</td>\n",
       "      <td>77</td>\n",
       "      <td>889</td>\n",
       "    </tr>\n",
       "  </tbody>\n",
       "</table>\n",
       "</div>"
      ],
      "text/plain": [
       "   Distribuição de Frequências Absoluta - Pclass  \\\n",
       "S                                            644   \n",
       "C                                            168   \n",
       "Q                                             77   \n",
       "\n",
       "   Distribuição de Frequências Acumulada - Pclass  \n",
       "S                                             644  \n",
       "C                                             812  \n",
       "Q                                             889  "
      ]
     },
     "execution_count": 7,
     "metadata": {},
     "output_type": "execute_result"
    }
   ],
   "source": [
    "# Distribuição de Frequências Absoluta\n",
    "dist_freq_abs = df['Embarked'].value_counts(sort=False)\n",
    "# Distribuição de Frequências Acumulada\n",
    "dist_freq_acu = df['Embarked'].value_counts(sort=False).cumsum()\n",
    "pd.DataFrame({'Distribuição de Frequências Absoluta - Pclass': dist_freq_abs, 'Distribuição de Frequências Acumulada - Pclass': dist_freq_acu} )"
   ]
  },
  {
   "cell_type": "markdown",
   "metadata": {},
   "source": [
    "Como podemos ver acima, temos a comparação de como funciona uma *distribuição de frequências absoluta* e uma *distribuição de frequências acumulada*.\n",
    "\n",
    "Da mesma forma como fizemos anteriormente, para se obter a *distribuição de frequências acumulada relativa*, basta adicionar o parâmetro `normalize=True`no método `.value_counts(normalize=True)`"
   ]
  },
  {
   "cell_type": "code",
   "execution_count": 8,
   "metadata": {},
   "outputs": [
    {
     "name": "stdout",
     "output_type": "stream",
     "text": [
      "Distribuição de Frequências Acumulada Relativa:\n"
     ]
    },
    {
     "data": {
      "text/plain": [
       "1    0.242424\n",
       "2    0.448934\n",
       "3    1.000000\n",
       "Name: Pclass, dtype: float64"
      ]
     },
     "execution_count": 8,
     "metadata": {},
     "output_type": "execute_result"
    }
   ],
   "source": [
    "print('Distribuição de Frequências Acumulada Relativa:')\n",
    "df['Pclass'].value_counts(normalize=True, sort=False).cumsum()"
   ]
  },
  {
   "cell_type": "markdown",
   "metadata": {},
   "source": [
    "- **Gráficos para Variáveis Qualitativas: Gráficos de Barras e de Setores(Pizza)**\n",
    "\n",
    "Há muitos tipos de gráficos e muitas formas diferentes de visualizar dados. Contudo, temos alguns que são mais comuns e mais utilizados.\n",
    "\n",
    "Quando estamos analisando uma variável qualitativa, os *Gráficos de Barras* e de *Composição de Setores* são alguns destes mais conhecidos. Em nosso dataset, temos algumas variáveis qualitativas que podemos visualizar através destes gráficos, como por exemplo a variável Sex(que se refere ao Sexo da tripulação) e a Embarked(que se refere ao portão de embarque).\n",
    "\n",
    "Vamos visualizar novamente a distribuição de frequências da variável Sex."
   ]
  },
  {
   "cell_type": "code",
   "execution_count": 9,
   "metadata": {},
   "outputs": [
    {
     "data": {
      "text/plain": [
       "male      577\n",
       "female    314\n",
       "Name: Sex, dtype: int64"
      ]
     },
     "execution_count": 9,
     "metadata": {},
     "output_type": "execute_result"
    }
   ],
   "source": [
    "df['Sex'].value_counts()"
   ]
  },
  {
   "cell_type": "markdown",
   "metadata": {},
   "source": [
    "Se quisessemos visualizar essa distribuição em um gráfico de barras, podemos utilizar os gráficos do pacote Matplotlib pra fazer isso.\n",
    "\n",
    "O Matplotlib possui uma variedade imensa de gráficos que podem ser usados. No caso do gráfico de barras, podemos plotá-lo através da função `plt.bar()`, onde precisamos passar pelo menos dois parâmetros com os eixos X e Y consecutivamente.\n",
    "\n",
    "Vamos criar duas variáveis, uma chamada **sexo** e outra **frequencia**. A variável sexo irá conter o index do dataframe de distribuição de frequências que fizemos acima, o index do dataframe, neste caso, se refere aos próprios valores da variável. Enquanto que os valores do dataframe são as frequências de cada valor e serão armazenados na variável frequencia.\n",
    "\n",
    "Assim, podemos adicionar os métodos `.index` e `.values` à distribuição de frequência da variável Sex obtida com `df['Sex'].value_counts()` para recebermos dois arrays com os valores e a quantidade de vezes que eles aparecem na variável."
   ]
  },
  {
   "cell_type": "code",
   "execution_count": 10,
   "metadata": {},
   "outputs": [
    {
     "data": {
      "text/plain": [
       "(Index(['male', 'female'], dtype='object'), array([577, 314], dtype=int64))"
      ]
     },
     "execution_count": 10,
     "metadata": {},
     "output_type": "execute_result"
    }
   ],
   "source": [
    "sexo = df['Sex'].value_counts().index\n",
    "frequencia = df['Sex'].value_counts().values\n",
    "sexo, frequencia"
   ]
  },
  {
   "cell_type": "markdown",
   "metadata": {},
   "source": [
    "Pronto! Agora podemos utilizar a função `plt.bar()` do Matplotlib e adicionar os parâmetros dos eixos X e Y com as variáveis sexo e frequencia. Vamos utilizar também a função `plt.show()` para visualizamos a figura do gráfico no modo display."
   ]
  },
  {
   "cell_type": "code",
   "execution_count": 68,
   "metadata": {},
   "outputs": [
    {
     "data": {
      "image/png": "[encoded data removed]",
      "text/plain": [
       "<matplotlib.figure.Figure at 0x18ded171f28>"
      ]
     },
     "metadata": {},
     "output_type": "display_data"
    }
   ],
   "source": [
    "plt.figure(1, figsize=(8, 5), dpi=80)\n",
    "plt.bar(sexo, frequencia)\n",
    "plt.show()"
   ]
  },
  {
   "cell_type": "markdown",
   "metadata": {},
   "source": [
    "Ótimo! Nós também podemos customizar os gráficos, e como boa prática, é bom que adicionemos pelo menos um título e o nome dos eixos. Para isso, vamos utilizar as funções `plt.title()` para o título, `plt.xlabel()` para o eixo X e `plt.ylabel()` para o eixo Y. É bem simples, basta passarmos uma string dentro a função para plotarmos um novo gráfico com estas informações."
   ]
  },
  {
   "cell_type": "code",
   "execution_count": 69,
   "metadata": {},
   "outputs": [
    {
     "data": {
      "image/png": "[encoded data removed]",
      "text/plain": [
       "<matplotlib.figure.Figure at 0x18ded1c2240>"
      ]
     },
     "metadata": {},
     "output_type": "display_data"
    }
   ],
   "source": [
    "plt.figure(1, figsize=(8, 5), dpi=80)\n",
    "plt.title(\"Distribuição de Frequências da Variável Sex\")\n",
    "plt.xlabel(\"Sexo\")\n",
    "plt.ylabel(\"Frequência\")\n",
    "plt.bar(sexo, frequencia)\n",
    "plt.show()"
   ]
  },
  {
   "cell_type": "markdown",
   "metadata": {},
   "source": [
    "Ótimo! Conseguimos plotar o nosso primeiro gráfico de barras com a distribuição de frequências de uma variável. Vamos tentar obter agora a *distribuição de frequências relativa* da variável Sex, porém, visualizada em um gráfico de setores(pizza).\n",
    "\n",
    "Podemos fazemos isso utilizando a função `plt.pie()`. Como já fizemos anteriormente, precisamos passar alguns parâmetros nesta função para plotarmos o gráfico. Aqui vamos precisar de pelo menos três parâmetros para termos as principais informações, a frequência relativa, o label de cada setor e o percentual que os valores representam na variável.\n",
    "\n",
    "Estes parâmetros serão `x=frequencia` com a variável frequencia preenchendo o parâmetro, `labels=sexo` com a variável sexo preenchendo o parâmetro necessário para plotarmos os valores da variável no label de cada setor e o parâmetro `autopct='%2.2f%%'`com a string `'%2.2f%%'`, essa string se refere ao formato em que o valor com o percentual de cada setor tem na variável é apresentado, neste caso, estaremos usando um formato com valores flutuantes do tipo: 'aa.aa%'.\n",
    "\n",
    "Não podemos esquecer de colocar o título e nomes dos eixos X e Y, além da função `plt.show()` para o modo display."
   ]
  },
  {
   "cell_type": "code",
   "execution_count": 70,
   "metadata": {},
   "outputs": [
    {
     "data": {
      "image/png": "[encoded data removed]",
      "text/plain": [
       "<matplotlib.figure.Figure at 0x18decffb7b8>"
      ]
     },
     "metadata": {},
     "output_type": "display_data"
    }
   ],
   "source": [
    "plt.figure(1, figsize=(8, 5), dpi=80)\n",
    "plt.pie(x=frequencia, labels=sexo, autopct='%2.2f%%')\n",
    "plt.title('Distribuição de Frequências Relativa da Variável Sex')\n",
    "plt.xlabel('Sexo')\n",
    "plt.ylabel('Frequência Relativa')\n",
    "plt.show()"
   ]
  },
  {
   "cell_type": "markdown",
   "metadata": {},
   "source": [
    "- **Gráficos para Variáveis Quantitativas: Histogramas**"
   ]
  },
  {
   "cell_type": "code",
   "execution_count": 71,
   "metadata": {},
   "outputs": [],
   "source": [
    "numero_de_familiares = df['SibSp'].value_counts().index\n",
    "frequencia = df['SibSp'].value_counts().values"
   ]
  },
  {
   "cell_type": "code",
   "execution_count": 72,
   "metadata": {},
   "outputs": [
    {
     "data": {
      "image/png": "[encoded data removed]",
      "text/plain": [
       "<matplotlib.figure.Figure at 0x18ded0eeb70>"
      ]
     },
     "metadata": {},
     "output_type": "display_data"
    }
   ],
   "source": [
    "plt.figure(1, figsize=(8, 5), dpi=80)\n",
    "plt.title(\"Distribuição de Frequências da Variável Sex\")\n",
    "plt.xlabel(\"Número de familiares\")\n",
    "plt.ylabel(\"Frequência\")\n",
    "plt.bar(numero_de_familiares, frequencia)\n",
    "plt.show()"
   ]
  },
  {
   "cell_type": "code",
   "execution_count": 73,
   "metadata": {},
   "outputs": [
    {
     "data": {
      "image/png": "[encoded data removed]",
      "text/plain": [
       "<matplotlib.figure.Figure at 0x18ded11ffd0>"
      ]
     },
     "metadata": {},
     "output_type": "display_data"
    }
   ],
   "source": [
    "plt.figure(1, figsize=(8, 5), dpi=80)\n",
    "plt.hist(df['Age'][df['Age'].notna()], bins='auto')\n",
    "plt.grid(True)\n",
    "plt.xlabel('Idade')\n",
    "plt.ylabel('Frequência')\n",
    "plt.show()"
   ]
  },
  {
   "cell_type": "code",
   "execution_count": 74,
   "metadata": {},
   "outputs": [
    {
     "data": {
      "image/png": "[encoded data removed]",
      "text/plain": [
       "<matplotlib.figure.Figure at 0x18ded06d7b8>"
      ]
     },
     "metadata": {},
     "output_type": "display_data"
    }
   ],
   "source": [
    "plt.figure(1, figsize=(8, 5), dpi=80)\n",
    "plt.hist(df['Age'][df['Age'].notna()], bins='auto', density=True)\n",
    "plt.grid(True)\n",
    "plt.xlabel('Idade')\n",
    "plt.ylabel('Frequência')\n",
    "plt.show()"
   ]
  },
  {
   "cell_type": "markdown",
   "metadata": {},
   "source": [
    "## Medidas Resumo\n",
    "\n",
    "- **Medidas de Posição**\n",
    "    - Moda\n",
    "    - Mediana\n",
    "    - Média\n",
    "\n",
    "- **Medidas de Dispersão**\n",
    "    - Variância\n",
    "    - Desvio Padrão"
   ]
  },
  {
   "cell_type": "code",
   "execution_count": 75,
   "metadata": {},
   "outputs": [
    {
     "data": {
      "text/plain": [
       "(0.42, 80.0)"
      ]
     },
     "execution_count": 75,
     "metadata": {},
     "output_type": "execute_result"
    }
   ],
   "source": [
    "(min(df['Age']), max(df['Age']))"
   ]
  },
  {
   "cell_type": "markdown",
   "metadata": {},
   "source": [
    "## Referências\n",
    "- Livro: Estatística Básica - Bussab & Morettin\n",
    "- [Dataset do Titanic (Kaggle)](https://www.kaggle.com/c/titanic)"
   ]
  },
  {
   "cell_type": "markdown",
   "metadata": {},
   "source": [
    "___"
   ]
  },
  {
   "cell_type": "markdown",
   "metadata": {},
   "source": [
    "# ROTEIRO - POST ESTATÍSTICA BÁSICA\n",
    "\n",
    "## Introdução\n",
    "- Apresentar o objetivo do post\n",
    "- Explicar o que é Estatística Descritiva\n",
    "- Pacotes Usados\n",
    "- Falar sobre as referências\n",
    "\n",
    "\n",
    "## Resumo de Dados\n",
    "#### Distribuição de frequências\n",
    "- Distribuição de Frequências= .value_counts() pandas\n",
    "- Frequência acumulada (pg 47)\n",
    "- Uso de gráficos de barras e setores (\"pizza\") para resumir a distribuição de frequências para variáveis QUALITATIVAS\n",
    "- Para variáveis QUANTITATIVAS, além das formas das qualitativas também temos o Histograma\n",
    "\n",
    "## Medidas - Resumo\n",
    "#### Medidas de Posição\n",
    "- Moda\n",
    "- Mediana\n",
    "- Média\n",
    "\n",
    "#### Medidas de Dispersão"
   ]
  }
 ],
 "metadata": {
  "kernelspec": {
   "display_name": "Python 3",
   "language": "python",
   "name": "python3"
  },
  "language_info": {
   "codemirror_mode": {
    "name": "ipython",
    "version": 3
   },
   "file_extension": ".py",
   "mimetype": "text/x-python",
   "name": "python",
   "nbconvert_exporter": "python",
   "pygments_lexer": "ipython3",
   "version": "3.6.9"
  }
 },
 "nbformat": 4,
 "nbformat_minor": 2
}

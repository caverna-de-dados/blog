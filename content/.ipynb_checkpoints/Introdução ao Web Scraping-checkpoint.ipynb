{
 "cells": [
  {
   "cell_type": "markdown",
   "metadata": {},
   "source": [
    "Este breve artigo será desenvolvido em duas seções principais. Você irá entender o que é Web Scraping, e posteriormente iremos importar para o pandas os dados obtidos com esta técnica.\n",
    "\n",
    "Vamos lá!\n",
    "\n",
    "## O que é Web Scraping?\n",
    "\n",
    "Também conhecido como Extração de Dados da Web, é a ação de extrair automaticamente dados específicos de uma página web e armazená-los de forma estruturada, por exemplo em um arquivo de texto, planilha, JSON, XML etc. Essa coleta pode ser usada para replicar informações em outro site ou para a análise de dados. É basicamente um “garimpo” na internet para extrair informações relevantes de uma página web. Normalmente, de forma mais rápida e eficiente que uma pessoa conseguiria fazer sem o scraping.\n",
    "\n",
    "Não tem coisa melhor né?! Contudo, geralmente, as empresas preferem não desenvolver um Web Scraping por conta da manutenção constante que deve ser feita no algoritmo. Toda vez que um site mudar seu estilo, existe a possibilidade do scraping falhar. Por isso, procuram primeiramente saber se é possível obter as informações desejadas através de uma API.\n",
    "\n",
    "Agora que você já sabe o que é o Scraping, temos que considerar alguns pontos importantes na hora de adotar esta abordagem de coleta de dados.\n",
    "\n",
    "Aqui estão alguns conselhos:\n",
    "\n",
    "- Dê preferência a utilização de uma API, se uma for fornecida (vai facilitar a sua vida);\n",
    "- Respeite os Termos de Serviço;\n",
    "- Respeite as regras do robots.txt; e\n",
    "- Não faça um bombardeio de requisições no site. Isso pode causar lentidão no servidor e você pode ser banido do website. Use uma taxa de rastreamento razoável (1 requisição a cada 10 segundos, por exemplo).\n",
    "\n",
    "Vamos colocar isto em prática!\n",
    "\n",
    "## Preparação dos Pacotes\n",
    "\n",
    "Antes de começar qualquer coisa, precisamos importar os pacotes que utilizaremos, que serão:  \n"
   ]
  },
  {
   "cell_type": "code",
   "execution_count": null,
   "metadata": {},
   "outputs": [],
   "source": [
    "from datetime import datetime\n",
    "from lxml import html\n",
    "import requests\n",
    "import numpy as np\n",
    "import pandas as pd\n",
    "import matplotlib.pylab as plt"
   ]
  },
  {
   "cell_type": "markdown",
   "metadata": {},
   "source": []
  }
 ],
 "metadata": {
  "kernelspec": {
   "display_name": "Python 3",
   "language": "python",
   "name": "python3"
  },
  "language_info": {
   "codemirror_mode": {
    "name": "ipython",
    "version": 3
   },
   "file_extension": ".py",
   "mimetype": "text/x-python",
   "name": "python",
   "nbconvert_exporter": "python",
   "pygments_lexer": "ipython3",
   "version": "3.7.3"
  }
 },
 "nbformat": 4,
 "nbformat_minor": 2
}

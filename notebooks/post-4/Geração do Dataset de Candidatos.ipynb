{
 "cells": [
  {
   "cell_type": "code",
   "execution_count": 1,
   "metadata": {},
   "outputs": [],
   "source": [
    "import numpy as np\n",
    "import pandas as pd\n",
    "import matplotlib.pyplot as plt"
   ]
  },
  {
   "cell_type": "code",
   "execution_count": 12,
   "metadata": {},
   "outputs": [],
   "source": [
    "formacao = ['Econo', 'Estat', 'Eng', 'Mat', 'Ciên. da Comp.', 'Econo', 'Estat', 'Eng', 'Mat', 'Ciên. da Comp.', 'Econo', 'Estat', 'Eng', 'Mat', 'Ciên. da Comp.', 'Econo', 'Estat', 'Eng', 'Mat', 'Ciên. da Comp.', 'Adm', 'Dir', 'Estat', 'Ciên. da Comp.']\n",
    "linguagem = ['Python', 'Python', 'Python', 'Python', 'Python', 'Python', 'Python', 'R', 'R', 'Julia']\n",
    "superior = ['Graduação', 'Graduação', 'Graduação', 'Graduação', 'Graduação', 'Graduação', 'Mestrado', 'Mestrado', 'Doutorado']\n",
    "notas = np.arange(0, 10.25, 0.25)\n",
    "salarios = np.concatenate((np.arange(3000, 11000, 1000), np.array([3000]*2 + [4000]*6 + [5000]*10 + [6000]*6 + [7000]*4 + [8000]*2 + [9000]*4 + [11000]), np.array([1000, 15000])))"
   ]
  },
  {
   "cell_type": "code",
   "execution_count": 13,
   "metadata": {},
   "outputs": [
    {
     "data": {
      "text/plain": [
       "array([ 3000,  4000,  5000,  6000,  7000,  8000,  9000, 10000,  3000,\n",
       "        3000,  4000,  4000,  4000,  4000,  4000,  4000,  5000,  5000,\n",
       "        5000,  5000,  5000,  5000,  5000,  5000,  5000,  5000,  6000,\n",
       "        6000,  6000,  6000,  6000,  6000,  7000,  7000,  7000,  7000,\n",
       "        8000,  8000,  9000,  9000,  9000,  9000, 11000,  1000, 15000])"
      ]
     },
     "execution_count": 13,
     "metadata": {},
     "output_type": "execute_result"
    }
   ],
   "source": [
    "salarios"
   ]
  },
  {
   "cell_type": "code",
   "execution_count": 14,
   "metadata": {},
   "outputs": [],
   "source": [
    "pesos_ascen = np.concatenate((np.arange(1, 11, 1), np.arange(20, 60, 4), np.arange(70, 170, 10), np.arange(200, 400, 20), np.array([200])))\n",
    "pesos_centr = np.concatenate((np.arange(1, 11, 1), np.arange(70, 170, 10), np.array([200]), np.arange(200, 400, 20), np.arange(20, 60, 4)))\n",
    "pesos_descen = np.concatenate((np.array([100]), np.arange(200, 400, 20), np.arange(200, 400, 20), np.arange(20, 60, 4), np.arange(1, 11, 1)))\n",
    "pesos_outliers = np.concatenate((np.array([100]), np.arange(1, 10, 1), np.arange(200, 400, 20), np.arange(20, 60, 4), np.arange(1, 11, 1), np.array([80])))"
   ]
  },
  {
   "cell_type": "code",
   "execution_count": 21,
   "metadata": {},
   "outputs": [
    {
     "data": {
      "text/plain": [
       "array([0.01602068, 0.03343128, 0.03248611, 0.03673289, 0.04255734,\n",
       "       0.0499606 , 0.05008451, 0.04952056, 0.05058292, 0.05891799,\n",
       "       0.05661356, 0.02483825, 0.03434788, 0.03822184, 0.04446911,\n",
       "       0.04851021, 0.04567238, 0.05212322, 0.0509894 , 0.05351399,\n",
       "       0.05959523, 0.00370271, 0.00323039, 0.00380538, 0.00518843,\n",
       "       0.00556411, 0.00675772, 0.00883179, 0.00818138, 0.00942415,\n",
       "       0.00773243, 0.00030227, 0.00017357, 0.00055966, 0.00091562,\n",
       "       0.00066471, 0.0005389 , 0.00079193, 0.00152764, 0.00104526,\n",
       "       0.00187202])"
      ]
     },
     "execution_count": 21,
     "metadata": {},
     "output_type": "execute_result"
    }
   ],
   "source": [
    "prob_ascen = np.random.dirichlet(pesos_ascen, size=1)[0]\n",
    "prob_centr = np.random.dirichlet(pesos_centr, size=1)[0]\n",
    "prob_descen = np.random.dirichlet(pesos_descen, size=1)[0]\n",
    "prob_outliers = np.random.dirichlet(pesos_outliers, size=1)[0]\n",
    "prob_descen"
   ]
  },
  {
   "cell_type": "code",
   "execution_count": 22,
   "metadata": {},
   "outputs": [],
   "source": [
    "base = {'ID do Candidato': [], 'Nota Mat/Est': [], 'Nota Program': [], 'Nota Port': [], 'Nota Neg': [], 'Graduacao': [], 'Nível Superior': [], 'Principal Linguagem': [], 'Pretensao Salarial': []}\n",
    "for i in range(200):\n",
    "    base['ID do Candidato'].append(i + 1)\n",
    "    base['Nota Mat/Est'].append(np.random.choice(notas, p=prob_ascen))\n",
    "    base['Nota Program'].append(np.random.choice(notas, p=prob_ascen))\n",
    "    base['Nota Port'].append(np.random.choice(notas, p=prob_centr))\n",
    "    base['Nota Neg'].append(np.random.choice(notas, p=prob_descen))\n",
    "    base['Graduacao'].append(np.random.choice(formacao))\n",
    "    base['Nível Superior'].append(np.random.choice(superior))\n",
    "    base['Principal Linguagem'].append(np.random.choice(linguagem))\n",
    "    base['Pretensao Salarial'].append(np.random.choice(salarios))"
   ]
  },
  {
   "cell_type": "code",
   "execution_count": 23,
   "metadata": {},
   "outputs": [],
   "source": [
    "data = pd.DataFrame(base)"
   ]
  },
  {
   "cell_type": "code",
   "execution_count": 24,
   "metadata": {},
   "outputs": [],
   "source": [
    "data['Media Final'] = data[['Nota Mat/Est', 'Nota Port', 'Nota Program', 'Nota Neg']].mean(axis=1)"
   ]
  },
  {
   "cell_type": "code",
   "execution_count": 25,
   "metadata": {},
   "outputs": [
    {
     "data": {
      "text/html": [
       "<div>\n",
       "<style scoped>\n",
       "    .dataframe tbody tr th:only-of-type {\n",
       "        vertical-align: middle;\n",
       "    }\n",
       "\n",
       "    .dataframe tbody tr th {\n",
       "        vertical-align: top;\n",
       "    }\n",
       "\n",
       "    .dataframe thead th {\n",
       "        text-align: right;\n",
       "    }\n",
       "</style>\n",
       "<table border=\"1\" class=\"dataframe\">\n",
       "  <thead>\n",
       "    <tr style=\"text-align: right;\">\n",
       "      <th></th>\n",
       "      <th>ID do Candidato</th>\n",
       "      <th>Nota Mat/Est</th>\n",
       "      <th>Nota Program</th>\n",
       "      <th>Nota Port</th>\n",
       "      <th>Nota Neg</th>\n",
       "      <th>Graduacao</th>\n",
       "      <th>Nível Superior</th>\n",
       "      <th>Principal Linguagem</th>\n",
       "      <th>Pretensao Salarial</th>\n",
       "      <th>Media Final</th>\n",
       "    </tr>\n",
       "  </thead>\n",
       "  <tbody>\n",
       "    <tr>\n",
       "      <td>0</td>\n",
       "      <td>1</td>\n",
       "      <td>9.75</td>\n",
       "      <td>9.50</td>\n",
       "      <td>6.25</td>\n",
       "      <td>0.75</td>\n",
       "      <td>Mat</td>\n",
       "      <td>Graduação</td>\n",
       "      <td>Python</td>\n",
       "      <td>4000</td>\n",
       "      <td>6.5625</td>\n",
       "    </tr>\n",
       "    <tr>\n",
       "      <td>1</td>\n",
       "      <td>2</td>\n",
       "      <td>6.75</td>\n",
       "      <td>9.00</td>\n",
       "      <td>4.25</td>\n",
       "      <td>6.75</td>\n",
       "      <td>Ciên. da Comp.</td>\n",
       "      <td>Graduação</td>\n",
       "      <td>Julia</td>\n",
       "      <td>5000</td>\n",
       "      <td>6.6875</td>\n",
       "    </tr>\n",
       "    <tr>\n",
       "      <td>2</td>\n",
       "      <td>3</td>\n",
       "      <td>9.50</td>\n",
       "      <td>9.50</td>\n",
       "      <td>6.75</td>\n",
       "      <td>4.25</td>\n",
       "      <td>Estat</td>\n",
       "      <td>Graduação</td>\n",
       "      <td>Python</td>\n",
       "      <td>9000</td>\n",
       "      <td>7.5000</td>\n",
       "    </tr>\n",
       "    <tr>\n",
       "      <td>3</td>\n",
       "      <td>4</td>\n",
       "      <td>7.50</td>\n",
       "      <td>9.50</td>\n",
       "      <td>6.00</td>\n",
       "      <td>2.00</td>\n",
       "      <td>Estat</td>\n",
       "      <td>Doutorado</td>\n",
       "      <td>Python</td>\n",
       "      <td>4000</td>\n",
       "      <td>6.2500</td>\n",
       "    </tr>\n",
       "    <tr>\n",
       "      <td>4</td>\n",
       "      <td>5</td>\n",
       "      <td>9.00</td>\n",
       "      <td>6.25</td>\n",
       "      <td>3.25</td>\n",
       "      <td>4.50</td>\n",
       "      <td>Eng</td>\n",
       "      <td>Doutorado</td>\n",
       "      <td>Python</td>\n",
       "      <td>9000</td>\n",
       "      <td>5.7500</td>\n",
       "    </tr>\n",
       "    <tr>\n",
       "      <td>...</td>\n",
       "      <td>...</td>\n",
       "      <td>...</td>\n",
       "      <td>...</td>\n",
       "      <td>...</td>\n",
       "      <td>...</td>\n",
       "      <td>...</td>\n",
       "      <td>...</td>\n",
       "      <td>...</td>\n",
       "      <td>...</td>\n",
       "      <td>...</td>\n",
       "    </tr>\n",
       "    <tr>\n",
       "      <td>195</td>\n",
       "      <td>196</td>\n",
       "      <td>9.00</td>\n",
       "      <td>7.25</td>\n",
       "      <td>6.25</td>\n",
       "      <td>2.00</td>\n",
       "      <td>Dir</td>\n",
       "      <td>Doutorado</td>\n",
       "      <td>Python</td>\n",
       "      <td>5000</td>\n",
       "      <td>6.1250</td>\n",
       "    </tr>\n",
       "    <tr>\n",
       "      <td>196</td>\n",
       "      <td>197</td>\n",
       "      <td>7.00</td>\n",
       "      <td>8.25</td>\n",
       "      <td>6.75</td>\n",
       "      <td>4.75</td>\n",
       "      <td>Econo</td>\n",
       "      <td>Graduação</td>\n",
       "      <td>Python</td>\n",
       "      <td>5000</td>\n",
       "      <td>6.6875</td>\n",
       "    </tr>\n",
       "    <tr>\n",
       "      <td>197</td>\n",
       "      <td>198</td>\n",
       "      <td>6.00</td>\n",
       "      <td>8.25</td>\n",
       "      <td>4.75</td>\n",
       "      <td>2.00</td>\n",
       "      <td>Econo</td>\n",
       "      <td>Graduação</td>\n",
       "      <td>R</td>\n",
       "      <td>6000</td>\n",
       "      <td>5.2500</td>\n",
       "    </tr>\n",
       "    <tr>\n",
       "      <td>198</td>\n",
       "      <td>199</td>\n",
       "      <td>3.00</td>\n",
       "      <td>8.25</td>\n",
       "      <td>4.50</td>\n",
       "      <td>5.00</td>\n",
       "      <td>Ciên. da Comp.</td>\n",
       "      <td>Graduação</td>\n",
       "      <td>R</td>\n",
       "      <td>4000</td>\n",
       "      <td>5.1875</td>\n",
       "    </tr>\n",
       "    <tr>\n",
       "      <td>199</td>\n",
       "      <td>200</td>\n",
       "      <td>9.00</td>\n",
       "      <td>9.00</td>\n",
       "      <td>5.00</td>\n",
       "      <td>1.00</td>\n",
       "      <td>Econo</td>\n",
       "      <td>Graduação</td>\n",
       "      <td>Python</td>\n",
       "      <td>6000</td>\n",
       "      <td>6.0000</td>\n",
       "    </tr>\n",
       "  </tbody>\n",
       "</table>\n",
       "<p>200 rows × 10 columns</p>\n",
       "</div>"
      ],
      "text/plain": [
       "     ID do Candidato  Nota Mat/Est  Nota Program  Nota Port  Nota Neg  \\\n",
       "0                  1          9.75          9.50       6.25      0.75   \n",
       "1                  2          6.75          9.00       4.25      6.75   \n",
       "2                  3          9.50          9.50       6.75      4.25   \n",
       "3                  4          7.50          9.50       6.00      2.00   \n",
       "4                  5          9.00          6.25       3.25      4.50   \n",
       "..               ...           ...           ...        ...       ...   \n",
       "195              196          9.00          7.25       6.25      2.00   \n",
       "196              197          7.00          8.25       6.75      4.75   \n",
       "197              198          6.00          8.25       4.75      2.00   \n",
       "198              199          3.00          8.25       4.50      5.00   \n",
       "199              200          9.00          9.00       5.00      1.00   \n",
       "\n",
       "          Graduacao Nível Superior Principal Linguagem  Pretensao Salarial  \\\n",
       "0               Mat      Graduação              Python                4000   \n",
       "1    Ciên. da Comp.      Graduação               Julia                5000   \n",
       "2             Estat      Graduação              Python                9000   \n",
       "3             Estat      Doutorado              Python                4000   \n",
       "4               Eng      Doutorado              Python                9000   \n",
       "..              ...            ...                 ...                 ...   \n",
       "195             Dir      Doutorado              Python                5000   \n",
       "196           Econo      Graduação              Python                5000   \n",
       "197           Econo      Graduação                   R                6000   \n",
       "198  Ciên. da Comp.      Graduação                   R                4000   \n",
       "199           Econo      Graduação              Python                6000   \n",
       "\n",
       "     Media Final  \n",
       "0         6.5625  \n",
       "1         6.6875  \n",
       "2         7.5000  \n",
       "3         6.2500  \n",
       "4         5.7500  \n",
       "..           ...  \n",
       "195       6.1250  \n",
       "196       6.6875  \n",
       "197       5.2500  \n",
       "198       5.1875  \n",
       "199       6.0000  \n",
       "\n",
       "[200 rows x 10 columns]"
      ]
     },
     "execution_count": 25,
     "metadata": {},
     "output_type": "execute_result"
    }
   ],
   "source": [
    "data"
   ]
  },
  {
   "cell_type": "code",
   "execution_count": 27,
   "metadata": {},
   "outputs": [
    {
     "data": {
      "text/plain": [
       "Graduação    0.63\n",
       "Mestrado     0.20\n",
       "Doutorado    0.17\n",
       "Name: Nível Superior, dtype: float64"
      ]
     },
     "execution_count": 27,
     "metadata": {},
     "output_type": "execute_result"
    }
   ],
   "source": [
    "data[\"Nível Superior\"].value_counts(1)"
   ]
  },
  {
   "cell_type": "code",
   "execution_count": 283,
   "metadata": {},
   "outputs": [
    {
     "data": {
      "text/plain": [
       "<matplotlib.axes._subplots.AxesSubplot at 0x2b1c1ee9390>"
      ]
     },
     "execution_count": 283,
     "metadata": {},
     "output_type": "execute_result"
    },
    {
     "data": {
      "image/png": "[encoded data removed]",
      "text/plain": [
       "<matplotlib.figure.Figure at 0x2b1c1eb03c8>"
      ]
     },
     "metadata": {
      "needs_background": "light"
     },
     "output_type": "display_data"
    }
   ],
   "source": [
    "data['Media Final'].hist(bins=20)"
   ]
  },
  {
   "cell_type": "code",
   "execution_count": 284,
   "metadata": {},
   "outputs": [
    {
     "data": {
      "text/plain": [
       "0.00      2\n",
       "0.25      5\n",
       "0.50      4\n",
       "0.75      7\n",
       "1.00      7\n",
       "1.25      6\n",
       "1.50     12\n",
       "1.75     14\n",
       "2.00     13\n",
       "2.25      9\n",
       "2.50     14\n",
       "2.75      4\n",
       "3.00      3\n",
       "3.25     12\n",
       "3.50      7\n",
       "3.75      9\n",
       "4.00      8\n",
       "4.25     13\n",
       "4.50     14\n",
       "4.75      9\n",
       "5.00     11\n",
       "5.50      1\n",
       "6.00      2\n",
       "6.25      2\n",
       "6.50      1\n",
       "6.75      2\n",
       "7.00      2\n",
       "7.25      1\n",
       "7.50      1\n",
       "8.00      1\n",
       "8.50      1\n",
       "8.75      1\n",
       "9.50      1\n",
       "10.00     1\n",
       "Name: Nota Neg, dtype: int64"
      ]
     },
     "execution_count": 284,
     "metadata": {},
     "output_type": "execute_result"
    }
   ],
   "source": [
    "data['Nota Neg'].value_counts().sort_index()"
   ]
  },
  {
   "cell_type": "code",
   "execution_count": 285,
   "metadata": {},
   "outputs": [
    {
     "data": {
      "text/html": [
       "<div>\n",
       "<style scoped>\n",
       "    .dataframe tbody tr th:only-of-type {\n",
       "        vertical-align: middle;\n",
       "    }\n",
       "\n",
       "    .dataframe tbody tr th {\n",
       "        vertical-align: top;\n",
       "    }\n",
       "\n",
       "    .dataframe thead th {\n",
       "        text-align: right;\n",
       "    }\n",
       "</style>\n",
       "<table border=\"1\" class=\"dataframe\">\n",
       "  <thead>\n",
       "    <tr style=\"text-align: right;\">\n",
       "      <th></th>\n",
       "      <th>ID do Candidato</th>\n",
       "      <th>Nota Mat/Est</th>\n",
       "      <th>Nota Program</th>\n",
       "      <th>Nota Port</th>\n",
       "      <th>Nota Neg</th>\n",
       "      <th>Formacao</th>\n",
       "      <th>Principal Linguagem</th>\n",
       "      <th>Pretensao Salarial</th>\n",
       "      <th>Media Final</th>\n",
       "    </tr>\n",
       "  </thead>\n",
       "  <tbody>\n",
       "    <tr>\n",
       "      <td>0</td>\n",
       "      <td>1</td>\n",
       "      <td>6.00</td>\n",
       "      <td>8.25</td>\n",
       "      <td>6.75</td>\n",
       "      <td>1.75</td>\n",
       "      <td>Mat</td>\n",
       "      <td>Julia</td>\n",
       "      <td>6000</td>\n",
       "      <td>5.6875</td>\n",
       "    </tr>\n",
       "    <tr>\n",
       "      <td>1</td>\n",
       "      <td>2</td>\n",
       "      <td>7.75</td>\n",
       "      <td>5.50</td>\n",
       "      <td>4.75</td>\n",
       "      <td>1.75</td>\n",
       "      <td>Mat</td>\n",
       "      <td>Python</td>\n",
       "      <td>9000</td>\n",
       "      <td>4.9375</td>\n",
       "    </tr>\n",
       "    <tr>\n",
       "      <td>2</td>\n",
       "      <td>3</td>\n",
       "      <td>2.50</td>\n",
       "      <td>8.00</td>\n",
       "      <td>7.00</td>\n",
       "      <td>3.75</td>\n",
       "      <td>Estat</td>\n",
       "      <td>Python</td>\n",
       "      <td>5000</td>\n",
       "      <td>5.3125</td>\n",
       "    </tr>\n",
       "    <tr>\n",
       "      <td>3</td>\n",
       "      <td>4</td>\n",
       "      <td>7.25</td>\n",
       "      <td>6.00</td>\n",
       "      <td>7.50</td>\n",
       "      <td>2.75</td>\n",
       "      <td>Ciên. da Comp.</td>\n",
       "      <td>Julia</td>\n",
       "      <td>4000</td>\n",
       "      <td>5.8750</td>\n",
       "    </tr>\n",
       "    <tr>\n",
       "      <td>4</td>\n",
       "      <td>5</td>\n",
       "      <td>7.50</td>\n",
       "      <td>9.50</td>\n",
       "      <td>7.25</td>\n",
       "      <td>4.00</td>\n",
       "      <td>Eng</td>\n",
       "      <td>Julia</td>\n",
       "      <td>4000</td>\n",
       "      <td>7.0625</td>\n",
       "    </tr>\n",
       "  </tbody>\n",
       "</table>\n",
       "</div>"
      ],
      "text/plain": [
       "   ID do Candidato  Nota Mat/Est  Nota Program  Nota Port  Nota Neg  \\\n",
       "0                1          6.00          8.25       6.75      1.75   \n",
       "1                2          7.75          5.50       4.75      1.75   \n",
       "2                3          2.50          8.00       7.00      3.75   \n",
       "3                4          7.25          6.00       7.50      2.75   \n",
       "4                5          7.50          9.50       7.25      4.00   \n",
       "\n",
       "         Formacao Principal Linguagem  Pretensao Salarial  Media Final  \n",
       "0             Mat               Julia                6000       5.6875  \n",
       "1             Mat              Python                9000       4.9375  \n",
       "2           Estat              Python                5000       5.3125  \n",
       "3  Ciên. da Comp.               Julia                4000       5.8750  \n",
       "4             Eng               Julia                4000       7.0625  "
      ]
     },
     "execution_count": 285,
     "metadata": {},
     "output_type": "execute_result"
    }
   ],
   "source": [
    "data.head()"
   ]
  },
  {
   "cell_type": "code",
   "execution_count": 286,
   "metadata": {},
   "outputs": [
    {
     "data": {
      "text/html": [
       "<div>\n",
       "<style scoped>\n",
       "    .dataframe tbody tr th:only-of-type {\n",
       "        vertical-align: middle;\n",
       "    }\n",
       "\n",
       "    .dataframe tbody tr th {\n",
       "        vertical-align: top;\n",
       "    }\n",
       "\n",
       "    .dataframe thead th {\n",
       "        text-align: right;\n",
       "    }\n",
       "</style>\n",
       "<table border=\"1\" class=\"dataframe\">\n",
       "  <thead>\n",
       "    <tr style=\"text-align: right;\">\n",
       "      <th></th>\n",
       "      <th>ID do Candidato</th>\n",
       "      <th>Nota Mat/Est</th>\n",
       "      <th>Nota Program</th>\n",
       "      <th>Nota Port</th>\n",
       "      <th>Nota Neg</th>\n",
       "      <th>Pretensao Salarial</th>\n",
       "      <th>Media Final</th>\n",
       "    </tr>\n",
       "  </thead>\n",
       "  <tbody>\n",
       "    <tr>\n",
       "      <td>count</td>\n",
       "      <td>200.000000</td>\n",
       "      <td>200.000000</td>\n",
       "      <td>200.000000</td>\n",
       "      <td>200.000000</td>\n",
       "      <td>200.00000</td>\n",
       "      <td>200.000000</td>\n",
       "      <td>200.000000</td>\n",
       "    </tr>\n",
       "    <tr>\n",
       "      <td>mean</td>\n",
       "      <td>100.500000</td>\n",
       "      <td>7.772500</td>\n",
       "      <td>7.711250</td>\n",
       "      <td>6.053750</td>\n",
       "      <td>3.17750</td>\n",
       "      <td>6205.000000</td>\n",
       "      <td>6.178750</td>\n",
       "    </tr>\n",
       "    <tr>\n",
       "      <td>std</td>\n",
       "      <td>57.879185</td>\n",
       "      <td>1.718067</td>\n",
       "      <td>1.984091</td>\n",
       "      <td>1.556692</td>\n",
       "      <td>1.87763</td>\n",
       "      <td>2417.061424</td>\n",
       "      <td>0.895117</td>\n",
       "    </tr>\n",
       "    <tr>\n",
       "      <td>min</td>\n",
       "      <td>1.000000</td>\n",
       "      <td>1.750000</td>\n",
       "      <td>1.750000</td>\n",
       "      <td>2.750000</td>\n",
       "      <td>0.00000</td>\n",
       "      <td>1000.000000</td>\n",
       "      <td>3.625000</td>\n",
       "    </tr>\n",
       "    <tr>\n",
       "      <td>25%</td>\n",
       "      <td>50.750000</td>\n",
       "      <td>6.750000</td>\n",
       "      <td>6.500000</td>\n",
       "      <td>5.000000</td>\n",
       "      <td>1.75000</td>\n",
       "      <td>5000.000000</td>\n",
       "      <td>5.625000</td>\n",
       "    </tr>\n",
       "    <tr>\n",
       "      <td>50%</td>\n",
       "      <td>100.500000</td>\n",
       "      <td>8.250000</td>\n",
       "      <td>8.250000</td>\n",
       "      <td>6.250000</td>\n",
       "      <td>3.12500</td>\n",
       "      <td>5500.000000</td>\n",
       "      <td>6.250000</td>\n",
       "    </tr>\n",
       "    <tr>\n",
       "      <td>75%</td>\n",
       "      <td>150.250000</td>\n",
       "      <td>9.000000</td>\n",
       "      <td>9.250000</td>\n",
       "      <td>7.250000</td>\n",
       "      <td>4.50000</td>\n",
       "      <td>8000.000000</td>\n",
       "      <td>6.750000</td>\n",
       "    </tr>\n",
       "    <tr>\n",
       "      <td>max</td>\n",
       "      <td>200.000000</td>\n",
       "      <td>10.000000</td>\n",
       "      <td>10.000000</td>\n",
       "      <td>10.000000</td>\n",
       "      <td>10.00000</td>\n",
       "      <td>15000.000000</td>\n",
       "      <td>8.500000</td>\n",
       "    </tr>\n",
       "  </tbody>\n",
       "</table>\n",
       "</div>"
      ],
      "text/plain": [
       "       ID do Candidato  Nota Mat/Est  Nota Program   Nota Port   Nota Neg  \\\n",
       "count       200.000000    200.000000    200.000000  200.000000  200.00000   \n",
       "mean        100.500000      7.772500      7.711250    6.053750    3.17750   \n",
       "std          57.879185      1.718067      1.984091    1.556692    1.87763   \n",
       "min           1.000000      1.750000      1.750000    2.750000    0.00000   \n",
       "25%          50.750000      6.750000      6.500000    5.000000    1.75000   \n",
       "50%         100.500000      8.250000      8.250000    6.250000    3.12500   \n",
       "75%         150.250000      9.000000      9.250000    7.250000    4.50000   \n",
       "max         200.000000     10.000000     10.000000   10.000000   10.00000   \n",
       "\n",
       "       Pretensao Salarial  Media Final  \n",
       "count          200.000000   200.000000  \n",
       "mean          6205.000000     6.178750  \n",
       "std           2417.061424     0.895117  \n",
       "min           1000.000000     3.625000  \n",
       "25%           5000.000000     5.625000  \n",
       "50%           5500.000000     6.250000  \n",
       "75%           8000.000000     6.750000  \n",
       "max          15000.000000     8.500000  "
      ]
     },
     "execution_count": 286,
     "metadata": {},
     "output_type": "execute_result"
    }
   ],
   "source": [
    "data.describe()"
   ]
  },
  {
   "cell_type": "code",
   "execution_count": 287,
   "metadata": {},
   "outputs": [
    {
     "data": {
      "text/plain": [
       "<matplotlib.axes._subplots.AxesSubplot at 0x2b1c1f20ba8>"
      ]
     },
     "execution_count": 287,
     "metadata": {},
     "output_type": "execute_result"
    },
    {
     "data": {
      "image/png": "[encoded data removed]",
      "text/plain": [
       "<matplotlib.figure.Figure at 0x2b1c1ed3828>"
      ]
     },
     "metadata": {
      "needs_background": "light"
     },
     "output_type": "display_data"
    }
   ],
   "source": [
    "data[['ID do Candidato', 'Pretensao Salarial']].plot.scatter(0, 1)"
   ]
  },
  {
   "cell_type": "code",
   "execution_count": 288,
   "metadata": {},
   "outputs": [],
   "source": [
    "data['Pretensao Salarial (mil)'] = (data['Pretensao Salarial']/1000).apply(int)"
   ]
  },
  {
   "cell_type": "code",
   "execution_count": 289,
   "metadata": {},
   "outputs": [],
   "source": [
    "data.drop('Pretensao Salarial', axis=1, inplace=True)"
   ]
  },
  {
   "cell_type": "code",
   "execution_count": 290,
   "metadata": {},
   "outputs": [],
   "source": [
    "data = data.reindex(columns=['ID do Candidato', 'Nota Mat/Est', 'Nota Program', 'Nota Port', 'Nota Neg', 'Media Final', 'Formacao', 'Principal Linguagem', 'Pretensao Salarial (mil)'])"
   ]
  },
  {
   "cell_type": "code",
   "execution_count": 291,
   "metadata": {},
   "outputs": [
    {
     "data": {
      "text/html": [
       "<div>\n",
       "<style scoped>\n",
       "    .dataframe tbody tr th:only-of-type {\n",
       "        vertical-align: middle;\n",
       "    }\n",
       "\n",
       "    .dataframe tbody tr th {\n",
       "        vertical-align: top;\n",
       "    }\n",
       "\n",
       "    .dataframe thead th {\n",
       "        text-align: right;\n",
       "    }\n",
       "</style>\n",
       "<table border=\"1\" class=\"dataframe\">\n",
       "  <thead>\n",
       "    <tr style=\"text-align: right;\">\n",
       "      <th></th>\n",
       "      <th>ID do Candidato</th>\n",
       "      <th>Nota Mat/Est</th>\n",
       "      <th>Nota Program</th>\n",
       "      <th>Nota Port</th>\n",
       "      <th>Nota Neg</th>\n",
       "      <th>Media Final</th>\n",
       "      <th>Formacao</th>\n",
       "      <th>Principal Linguagem</th>\n",
       "      <th>Pretensao Salarial (mil)</th>\n",
       "    </tr>\n",
       "  </thead>\n",
       "  <tbody>\n",
       "    <tr>\n",
       "      <td>0</td>\n",
       "      <td>1</td>\n",
       "      <td>6.00</td>\n",
       "      <td>8.25</td>\n",
       "      <td>6.75</td>\n",
       "      <td>1.75</td>\n",
       "      <td>5.6875</td>\n",
       "      <td>Mat</td>\n",
       "      <td>Julia</td>\n",
       "      <td>6</td>\n",
       "    </tr>\n",
       "    <tr>\n",
       "      <td>1</td>\n",
       "      <td>2</td>\n",
       "      <td>7.75</td>\n",
       "      <td>5.50</td>\n",
       "      <td>4.75</td>\n",
       "      <td>1.75</td>\n",
       "      <td>4.9375</td>\n",
       "      <td>Mat</td>\n",
       "      <td>Python</td>\n",
       "      <td>9</td>\n",
       "    </tr>\n",
       "    <tr>\n",
       "      <td>2</td>\n",
       "      <td>3</td>\n",
       "      <td>2.50</td>\n",
       "      <td>8.00</td>\n",
       "      <td>7.00</td>\n",
       "      <td>3.75</td>\n",
       "      <td>5.3125</td>\n",
       "      <td>Estat</td>\n",
       "      <td>Python</td>\n",
       "      <td>5</td>\n",
       "    </tr>\n",
       "    <tr>\n",
       "      <td>3</td>\n",
       "      <td>4</td>\n",
       "      <td>7.25</td>\n",
       "      <td>6.00</td>\n",
       "      <td>7.50</td>\n",
       "      <td>2.75</td>\n",
       "      <td>5.8750</td>\n",
       "      <td>Ciên. da Comp.</td>\n",
       "      <td>Julia</td>\n",
       "      <td>4</td>\n",
       "    </tr>\n",
       "    <tr>\n",
       "      <td>4</td>\n",
       "      <td>5</td>\n",
       "      <td>7.50</td>\n",
       "      <td>9.50</td>\n",
       "      <td>7.25</td>\n",
       "      <td>4.00</td>\n",
       "      <td>7.0625</td>\n",
       "      <td>Eng</td>\n",
       "      <td>Julia</td>\n",
       "      <td>4</td>\n",
       "    </tr>\n",
       "  </tbody>\n",
       "</table>\n",
       "</div>"
      ],
      "text/plain": [
       "   ID do Candidato  Nota Mat/Est  Nota Program  Nota Port  Nota Neg  \\\n",
       "0                1          6.00          8.25       6.75      1.75   \n",
       "1                2          7.75          5.50       4.75      1.75   \n",
       "2                3          2.50          8.00       7.00      3.75   \n",
       "3                4          7.25          6.00       7.50      2.75   \n",
       "4                5          7.50          9.50       7.25      4.00   \n",
       "\n",
       "   Media Final        Formacao Principal Linguagem  Pretensao Salarial (mil)  \n",
       "0       5.6875             Mat               Julia                         6  \n",
       "1       4.9375             Mat              Python                         9  \n",
       "2       5.3125           Estat              Python                         5  \n",
       "3       5.8750  Ciên. da Comp.               Julia                         4  \n",
       "4       7.0625             Eng               Julia                         4  "
      ]
     },
     "execution_count": 291,
     "metadata": {},
     "output_type": "execute_result"
    }
   ],
   "source": [
    "data.head()"
   ]
  },
  {
   "cell_type": "code",
   "execution_count": 292,
   "metadata": {},
   "outputs": [],
   "source": [
    "data.to_csv('dataset.csv', index=False, sep=';')"
   ]
  },
  {
   "cell_type": "code",
   "execution_count": 547,
   "metadata": {},
   "outputs": [
    {
     "data": {
      "text/plain": [
       "<matplotlib.axes._subplots.AxesSubplot at 0x29b4e4dba20>"
      ]
     },
     "execution_count": 547,
     "metadata": {},
     "output_type": "execute_result"
    },
    {
     "data": {
      "image/png": "[encoded data removed]",
      "text/plain": [
       "<matplotlib.figure.Figure at 0x29b5424eba8>"
      ]
     },
     "metadata": {
      "needs_background": "light"
     },
     "output_type": "display_data"
    }
   ],
   "source": [
    "x = np.sort(np.random.uniform(1000, 15000, size=41))\n",
    "pd.DataFrame(x).reset_index().plot.scatter(x='index', y=0)"
   ]
  },
  {
   "cell_type": "code",
   "execution_count": 162,
   "metadata": {},
   "outputs": [],
   "source": [
    "y = {'Sal': []}\n",
    "for i in range(300):\n",
    "    y['Sal'].append(np.random.choice(x, p=prob_outliers))"
   ]
  },
  {
   "cell_type": "code",
   "execution_count": 490,
   "metadata": {},
   "outputs": [
    {
     "data": {
      "text/plain": [
       "<matplotlib.axes._subplots.AxesSubplot at 0x29b53006358>"
      ]
     },
     "execution_count": 490,
     "metadata": {},
     "output_type": "execute_result"
    },
    {
     "data": {
      "image/png": "[encoded data removed]",
      "text/plain": [
       "<matplotlib.figure.Figure at 0x29b53012898>"
      ]
     },
     "metadata": {
      "needs_background": "light"
     },
     "output_type": "display_data"
    }
   ],
   "source": [
    "pd.DataFrame(y).reset_index().plot.scatter(0, 1)"
   ]
  },
  {
   "cell_type": "code",
   "execution_count": 168,
   "metadata": {},
   "outputs": [
    {
     "data": {
      "text/plain": [
       "<matplotlib.axes._subplots.AxesSubplot at 0x29b4bb8a898>"
      ]
     },
     "execution_count": 168,
     "metadata": {},
     "output_type": "execute_result"
    },
    {
     "data": {
      "image/png": "[encoded data removed]",
      "text/plain": [
       "<matplotlib.figure.Figure at 0x29b4bd462e8>"
      ]
     },
     "metadata": {
      "needs_background": "light"
     },
     "output_type": "display_data"
    }
   ],
   "source": [
    "pd.DataFrame(y).plot.hist(bins=10)"
   ]
  },
  {
   "cell_type": "code",
   "execution_count": 268,
   "metadata": {},
   "outputs": [],
   "source": [
    "data = pd.read_excel('atlas2013_dadosbrutos_pt.xlsx', sheet_name='MUN 91-00-10')"
   ]
  },
  {
   "cell_type": "code",
   "execution_count": 304,
   "metadata": {},
   "outputs": [],
   "source": [
    "datau = pd.read_excel('atlas2013_dadosbrutos_pt.xlsx', sheet_name='UF 91-00-10')"
   ]
  },
  {
   "cell_type": "code",
   "execution_count": 379,
   "metadata": {},
   "outputs": [
    {
     "data": {
      "text/plain": [
       "Index(['ANO', 'UF', 'Codmun6', 'Codmun7', 'Município', 'ESPVIDA', 'FECTOT',\n",
       "       'MORT1', 'MORT5', 'RAZDEP',\n",
       "       ...\n",
       "       'PIA1517', 'PIA18M', 'POP', 'POPT', 'I_ESCOLARIDADE', 'I_FREQ_PROP',\n",
       "       'IDHM', 'IDHM_E', 'IDHM_L', 'IDHM_R'],\n",
       "      dtype='object', length=237)"
      ]
     },
     "execution_count": 379,
     "metadata": {},
     "output_type": "execute_result"
    }
   ],
   "source": [
    "list(data.columns)"
   ]
  },
  {
   "cell_type": "code",
   "execution_count": 310,
   "metadata": {},
   "outputs": [
    {
     "data": {
      "text/plain": [
       "54    Rondônia\n",
       "Name: UFN, dtype: object"
      ]
     },
     "execution_count": 310,
     "metadata": {},
     "output_type": "execute_result"
    }
   ],
   "source": [
    "estados = datau.loc[datau.ANO == 2010][['UF', 'UFN']]\n",
    "estados.loc[estados.UF == 11].UFN"
   ]
  },
  {
   "cell_type": "code",
   "execution_count": 380,
   "metadata": {},
   "outputs": [],
   "source": [
    "data2 = data.loc[data.ANO == 2010][['UF', 'Município', 'ESPVIDA', 'FECTOT', 'E_ANOSESTUDO', 'GINI', 'RDPC', 'POPT', 'IDHM']]"
   ]
  },
  {
   "cell_type": "code",
   "execution_count": 381,
   "metadata": {},
   "outputs": [],
   "source": [
    "states = []\n",
    "for row in data2.iterrows():\n",
    "#     print(row[1]['UF'])\n",
    "    states.append(estados.loc[estados.UF == row[1]['UF']].UFN.values[0])"
   ]
  },
  {
   "cell_type": "code",
   "execution_count": 382,
   "metadata": {},
   "outputs": [],
   "source": [
    "data2['UFN'] = states"
   ]
  },
  {
   "cell_type": "code",
   "execution_count": 384,
   "metadata": {},
   "outputs": [],
   "source": [
    "norte = ['Amazonas', 'Roraima', 'Amapá', 'Pará', 'Tocantins', 'Rondônia', 'Acre']\n",
    "nordeste = ['Maranhão', 'Piauí', 'Ceará', 'Rio Grande do Norte', 'Pernambuco', 'Paraíba', 'Sergipe', 'Alagoas', 'Bahia']\n",
    "centro_oeste = ['Mato Grosso', 'Mato Grosso do Sul', 'Goiás', 'Distrito Federal']\n",
    "sudeste = ['São Paulo', 'Rio de Janeiro', 'Espírito Santo', 'Minas Gerais']\n",
    "sul = ['Paraná', 'Rio Grande do Sul', 'Santa Catarina']"
   ]
  },
  {
   "cell_type": "code",
   "execution_count": 385,
   "metadata": {},
   "outputs": [],
   "source": [
    "regioes = []\n",
    "for row in data2.iterrows():\n",
    "    if row[1]['UFN'] in norte:\n",
    "        regioes.append('Norte')\n",
    "    elif row[1]['UFN'] in nordeste:\n",
    "        regioes.append('Nordeste')\n",
    "    elif row[1]['UFN'] in centro_oeste:\n",
    "        regioes.append('Centro-Oeste')\n",
    "    elif row[1]['UFN'] in sudeste:\n",
    "        regioes.append('Sudeste')\n",
    "    elif row[1]['UFN'] in sul:\n",
    "        regioes.append('Sul')\n",
    "    else:\n",
    "        regioes.append(row[0])"
   ]
  },
  {
   "cell_type": "code",
   "execution_count": 386,
   "metadata": {},
   "outputs": [],
   "source": [
    "data2['REGIAO'] = regioes"
   ]
  },
  {
   "cell_type": "code",
   "execution_count": 387,
   "metadata": {},
   "outputs": [],
   "source": [
    "data2 = data2.drop('UF', axis=1)"
   ]
  },
  {
   "cell_type": "code",
   "execution_count": 426,
   "metadata": {},
   "outputs": [
    {
     "data": {
      "text/plain": [
       "0.6913699695271998"
      ]
     },
     "execution_count": 426,
     "metadata": {},
     "output_type": "execute_result"
    }
   ],
   "source": [
    "(data2.IDHM * data2.RDPC).sum()/data2.RDPC.sum()"
   ]
  },
  {
   "cell_type": "code",
   "execution_count": 427,
   "metadata": {},
   "outputs": [
    {
     "data": {
      "text/plain": [
       "0.6591574123989226"
      ]
     },
     "execution_count": 427,
     "metadata": {},
     "output_type": "execute_result"
    }
   ],
   "source": [
    "data2.IDHM.mean()"
   ]
  },
  {
   "cell_type": "code",
   "execution_count": 401,
   "metadata": {},
   "outputs": [
    {
     "data": {
      "text/plain": [
       "9.463638814016203"
      ]
     },
     "execution_count": 401,
     "metadata": {},
     "output_type": "execute_result"
    }
   ],
   "source": [
    "data2['E_ANOSESTUDO'].mean()"
   ]
  },
  {
   "cell_type": "code",
   "execution_count": 403,
   "metadata": {},
   "outputs": [
    {
     "data": {
      "text/plain": [
       "9.740944126976817"
      ]
     },
     "execution_count": 403,
     "metadata": {},
     "output_type": "execute_result"
    }
   ],
   "source": [
    "(data2['E_ANOSESTUDO'] * data2['RDPC']).sum()/data2['RDPC'].sum()"
   ]
  },
  {
   "cell_type": "code",
   "execution_count": 300,
   "metadata": {},
   "outputs": [
    {
     "data": {
      "text/plain": [
       "<matplotlib.axes._subplots.AxesSubplot at 0x29b55637908>"
      ]
     },
     "execution_count": 300,
     "metadata": {},
     "output_type": "execute_result"
    },
    {
     "data": {
      "image/png": "[encoded data removed]",
      "text/plain": [
       "<matplotlib.figure.Figure at 0x29b555ef908>"
      ]
     },
     "metadata": {
      "needs_background": "light"
     },
     "output_type": "display_data"
    }
   ],
   "source": [
    "data2.reset_index().plot.scatter('index', 'RDPC', c='IDHM')"
   ]
  },
  {
   "cell_type": "code",
   "execution_count": 447,
   "metadata": {},
   "outputs": [
    {
     "data": {
      "text/plain": [
       "<matplotlib.axes._subplots.AxesSubplot at 0x29b534e5a90>"
      ]
     },
     "execution_count": 447,
     "metadata": {},
     "output_type": "execute_result"
    },
    {
     "data": {
      "image/png": "[encoded data removed]",
      "text/plain": [
       "<matplotlib.figure.Figure at 0x29b5286f198>"
      ]
     },
     "metadata": {
      "needs_background": "light"
     },
     "output_type": "display_data"
    }
   ],
   "source": [
    "data2['E_ANOSESTUDO'].plot.hist(bins=30)"
   ]
  }
 ],
 "metadata": {
  "kernelspec": {
   "display_name": "Python 3",
   "language": "python",
   "name": "python3"
  },
  "language_info": {
   "codemirror_mode": {
    "name": "ipython",
    "version": 3
   },
   "file_extension": ".py",
   "mimetype": "text/x-python",
   "name": "python",
   "nbconvert_exporter": "python",
   "pygments_lexer": "ipython3",
   "version": "3.6.9"
  }
 },
 "nbformat": 4,
 "nbformat_minor": 2
}

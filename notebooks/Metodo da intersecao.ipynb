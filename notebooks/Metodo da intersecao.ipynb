{
 "cells": [
  {
   "cell_type": "markdown",
   "metadata": {},
   "source": [
    "## Introdução\n",
    "\n",
    "Iniciarei uma série sobre métodos númericos, muito em razão de uma matéria que estou tendo na faculdade (Laboratório de métodos numéricos). Então finalidade dos posts é para estudo e também para divulgar alguns métodos numéricos para fora da academia. A referência principal é [A First Course in Numerical Methods](https://doi.org/10.1137/9780898719987)\n",
    "\n",
    "Antes de começar, vale a pena saber o que são métodos numéricos. Em poucas palavras métodos numéricos, são conjuntos de algoritmos e estruturas de dados para representar o mundo continuo da matemática e da natureza, no mundo discreto do computador. O exemplo clássico é a representação dos $\\mathbb{R}$, que podem possuir infinitas casas decimais, no computador, que possui um número finito de recurso (estrutura de dados), além disso, como fazer soma , subtração nessa representação de número (algoritmos). \n",
    "\n",
    "Para iniciar vou apresentar o algoritmo \"método da bisseção\" que encontra 0 de funções de uma variável. \n",
    "\n",
    "WARNING: os algoritmos aqui implementados são para efeitos de estudo, em produção use alguma biblioteca que implementa esse tipo de algoritmo, como por exemplo optimize.fsolve do scipy. \n",
    "\n",
    "\n",
    "## Métodos da Bisseção\n",
    "\n",
    "O intuição do algoritmo é simples, parecida a uma busca binária, mas em um intervalo real.\n",
    "\n",
    "Suponha que há uma $f(x)$ continua no intervalo $[a, b]$ de tal forma que $f(a) * f(b) < 0$ pelo teorema do valor intermediário de cálculo, há uma raiz $\\overline{x} \\in [a, b]$. \n",
    "\n",
    "Um exemplo para esclarecer: seja $f(x)=sen(x)$ e os pontos $a = \\frac{2\\pi}{3}$ e  $b = \\frac{7\\pi}{6}$ como $f(a)*f(b) = sen(a)*sen(b) < 0$, temos que há um zero de função nesse intervalo."
   ]
  },
  {
   "cell_type": "code",
   "execution_count": 25,
   "metadata": {},
   "outputs": [
    {
     "data": {
      "image/png": "[encoded data removed]",
      "text/plain": [
       "<Figure size 432x288 with 1 Axes>"
      ]
     },
     "metadata": {
      "needs_background": "light"
     },
     "output_type": "display_data"
    }
   ],
   "source": [
    "import numpy as np\n",
    "import matplotlib.pyplot as plt\n",
    "\n",
    "a = 2 * np.pi / 3\n",
    "b = 7 * np.pi / 6\n",
    "x = np.linspace(a, b)\n",
    "y = np.sin(x)\n",
    "\n",
    "plt.plot(x,y)\n",
    "plt.scatter(np.pi, np.sin(np.pi), c=\"red\")\n",
    "plt.hlines(y=0, xmin=a, xmax=b)\n",
    "plt.ylabel(\"sen(x)\")\n",
    "plt.show()"
   ]
  },
  {
   "cell_type": "markdown",
   "metadata": {},
   "source": [
    "Por inspeção, vemos claramente que há uma raiz e seu valor analitico é $x = \\pi$. \n",
    "\n",
    "Então, vamos usar o resultado acima para construir um algoritmo. \n",
    "\n",
    "- Tome $ p = \\frac{a + b}{2}$ (esse sera o ponto intermediário do intervalo $[a, b]$).\n",
    "- Se $f(a)*f(p) < 0$, então b = p, caso contrário a = p.\n",
    "\n",
    "Como primeiro critério de parada do algoritmo, vou usar $|f(p) - 0| < FTOL$ onde FTOL é uma tolerância de erro se pode cometer. Mas ai surge uma pequena problemática, para esse critério funcionar é necessario que $f(x)$ chege próximo mais próximo de 0 a cada iteração, caso contrário não é verdade que o critério funciona e pode entrar em loop infinito.\n",
    "\n",
    "Uma intuição do porque isso acontece é o seguinte, do teorema do valor intermidário sabemos que existe um 0 no intervalo $[a,b]$, como o intervalo $[a,p]$ ou $[p,b]$ tem a metade do tamanho do intervalo anterior, a cada iteração estamos chegando mais perto da solução, pois o intervalo que a contém esta ficando menor. (quantas vezes a palavra intervalo rs)\n",
    "\n",
    "Implementando algoritmo com o exemplo anterior, temos:"
   ]
  },
  {
   "cell_type": "code",
   "execution_count": 70,
   "metadata": {},
   "outputs": [
    {
     "name": "stdout",
     "output_type": "stream",
     "text": [
      "Quantidade de interação até convergir: 50\n",
      "Erro de aproximação da função: 3.216245299353273e-16\n",
      "Resultado encontrado: 3.1415926535897936\n",
      "Resultado esperado: 3.141592653589793\n"
     ]
    },
    {
     "data": {
      "image/png": "[encoded data removed]",
      "text/plain": [
       "<Figure size 432x288 with 1 Axes>"
      ]
     },
     "metadata": {
      "needs_background": "light"
     },
     "output_type": "display_data"
    }
   ],
   "source": [
    "a_alg = a\n",
    "b_alg = b\n",
    "p = (a_alg+b_alg)/2\n",
    "fp = np.sin(p)\n",
    "qtd_itr = 1\n",
    "FTOL = 1e-15\n",
    "ps_encontrados = [p]\n",
    "\n",
    "while np.abs(fp) > FTOL:\n",
    "    if np.sin(a_alg) * fp < 0: b_alg = p\n",
    "    else: a_alg = p\n",
    "    \n",
    "    qtd_itr = qtd_itr + 1\n",
    "    p = (a_alg + b_alg) / 2\n",
    "    ps_encontrados.append(p)\n",
    "    fp = np.sin(p)\n",
    "    \n",
    "print(\"Quantidade de interação até convergir:\", qtd_itr)\n",
    "print(\"Erro de aproximação da função:\", np.abs(fp))\n",
    "print(\"Resultado encontrado:\", p)\n",
    "print(\"Resultado esperado:\", np.pi)\n",
    "\n",
    "plt.plot(np.arange(qtd_itr), ps_encontrados, label=\"x\")\n",
    "plt.hlines(y=np.pi, xmin=0, xmax=qtd_itr-1, alpha=0.5, label=\"x esperado\")\n",
    "plt.xlabel(\"Iterações\")\n",
    "plt.ylabel(\"Valor de x\")\n",
    "plt.legend()\n",
    "plt.show()"
   ]
  },
  {
   "cell_type": "markdown",
   "metadata": {},
   "source": [
    "Veja que com esse algoritmo cometemos um erro da ordem de $10^{-16}$, e o x encontrado é praticamente igual a $\\pi$ em 49 iterações. Porém algumas vezes não estamos interssados no quão perto o valor da função esta de 0 e sim o quão perto a resposta encontrada esta da verdadeira resposta, pois podemos ter tolerâncias diferentes.\n",
    "\n",
    "Para isso, seja $x_{n}$ o $\\overline{x}$ na n-ésima iteração, agora que não queremos controlar o erro do valor da função, mas sim o erro\n",
    "\n",
    "$$\\begin{equation}\\label{eq1}\\tag{1} |x_{n} - x| \\leq ATOL \\end{equation}$$ \n",
    "\n",
    "onde $ATOL$ é a tolerância de erro.\n",
    "\n",
    "Do algoritmo temos que\n",
    "\n",
    "$$\\begin{equation}\\label{eq2}\\tag{2} |x_{n} - x| \\leq \\frac{a + b}{2}2^{-n}\\end{equation}$$\n",
    "\n",
    "A intuição dessa inequeção é a seguinte: a nossa soluação sempre estará no intervalo $[a, p]$ que possui tamanho\n",
    "\n",
    "$$\\begin{equation}\\label{eq3}\\tag{3} p-a = \\frac{b+a}{2} - a = \\frac{b-a}{2}\\end{equation}$$\n",
    "\n",
    "portanto a cada iteração, nos diminuimos o intervalo em que a solução esta pela metade, similar no caso $[p, b]$.\n",
    "\n",
    "De (\\ref{eq1}) e (\\ref{eq2}), queremos que:\n",
    "\n",
    "$$\n",
    "\\frac{a + b}{2}2^{-n} \\leq ATOL\n",
    "$$\n",
    "\n",
    "Multiplicando ambos os lados por $\\frac{2^{n}}{ATOL}$\n",
    "\n",
    "$$\n",
    "\\frac{a + b}{2ATOL} \\leq 2^{n}\n",
    "$$\n",
    "\n",
    "Tirando o $\\log_{2}$\n",
    "\n",
    "\n",
    "$$\n",
    "\\log_{2} \\frac{a + b}{2ATOL} \\leq n\n",
    "$$\n",
    "\n",
    "portanto o número de iterações até a convergência\n",
    "\n",
    "$$\n",
    "n = \\lceil\\log_{2} \\frac{a + b}{2ATOL}\\rceil\n",
    "$$\n",
    "\n",
    "Voltando ao exemplo, supondo que queremos aceitamos um erro da ordem de $10^{-3}$, basta fazer:"
   ]
  },
  {
   "cell_type": "code",
   "execution_count": 74,
   "metadata": {},
   "outputs": [
    {
     "name": "stdout",
     "output_type": "stream",
     "text": [
      "Número de iterações: 12\n",
      "Erro absoluto da resposta: 6.391586616238953e-05\n",
      "x encontrado: 3.1415287377236307\n",
      "x esperado: 3.141592653589793\n",
      "Erro de f(x) 6.391586611899341e-05\n"
     ]
    },
    {
     "data": {
      "image/png": "[encoded data removed]",
      "text/plain": [
       "<Figure size 432x288 with 1 Axes>"
      ]
     },
     "metadata": {
      "needs_background": "light"
     },
     "output_type": "display_data"
    }
   ],
   "source": [
    "ATOL = 1e-3\n",
    "n = np.ceil(np.log2((a+b)/(2*ATOL)))\n",
    "a_alg = a\n",
    "b_alg = b\n",
    "p = (a_alg+b_alg)/2\n",
    "ps_encontrados = [p]\n",
    "fp = np.sin(p)\n",
    "\n",
    "for _ in range(int(n)):\n",
    "    if np.sin(a_alg) * fp < 0: b_alg = p\n",
    "    else: a_alg = p   \n",
    "        \n",
    "    p = (a_alg + b_alg) / 2\n",
    "    ps_encontrados.append(p)\n",
    "    fp = np.sin(p)\n",
    "\n",
    "print(\"Número de iterações:\", int(n))\n",
    "print(\"Erro absoluto da resposta:\", np.abs(np.pi - p))\n",
    "print(\"x encontrado:\", p)\n",
    "print(\"x esperado:\", np.pi)\n",
    "print(\"Erro de f(x)\", np.abs(np.sin(p)))\n",
    "\n",
    "plt.plot(np.arange(n+1), ps_encontrados, label=\"x\")\n",
    "plt.hlines(y=np.pi, xmin=0, xmax=n-1, alpha=0.5, label=\"x esperado\")\n",
    "plt.xlabel(\"Iterações\")\n",
    "plt.ylabel(\"Valor de x\")\n",
    "plt.legend()\n",
    "plt.show()"
   ]
  },
  {
   "cell_type": "markdown",
   "metadata": {},
   "source": [
    "Veja que foram necessária 12 iterações para encontrar um $\\overline{x}$ tal que o erro fosse menor que $10^{-3}$, na verdade foi da ordem de $10^{-5}$, melhor do que o esperado.\n",
    "\n",
    "## Conclusão\n",
    "\n",
    "Aqui foram mostrado dois critérios de parada para o algoritmo da bisseção, e sua implementação em python usando a biblioteca numpy. Ainda que simples esse algoritmo para uma variável, ele é bom para contruir uma intuição do que acontece e também possui poucos pré-requisitos sobre $f(x)$, apenas que seja continua no intervalo $[a,b]$ tal que $f(a)*f(b) < 0 $. Aos poucos iremos mostrando algoritmos mais complexos que lidam com mais váriaveis."
   ]
  }
 ],
 "metadata": {
  "kernelspec": {
   "display_name": "Python 3",
   "language": "python",
   "name": "python3"
  },
  "language_info": {
   "codemirror_mode": {
    "name": "ipython",
    "version": 3
   },
   "file_extension": ".py",
   "mimetype": "text/x-python",
   "name": "python",
   "nbconvert_exporter": "python",
   "pygments_lexer": "ipython3",
   "version": "3.7.4"
  }
 },
 "nbformat": 4,
 "nbformat_minor": 2
}

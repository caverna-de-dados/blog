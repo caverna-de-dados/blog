{
 "cells": [
  {
   "cell_type": "markdown",
   "metadata": {},
   "source": [
    "# 1. Introdução"
   ]
  },
  {
   "cell_type": "markdown",
   "metadata": {},
   "source": [
    "Neste post, vou falar um pouco com implementar/prototipar sua rede neural com o framework Keras, e não falar da parte teórica, isso pode ser assunto para um próximo post. Antes de começar, uma breve introdução.\n",
    "\n",
    "Keras é um framework que permite a implementação de uma rede neural, de maneira rápida. Para exemplificar existem algumas maneiras de implementar uma, como por exemplo:\n",
    "\n",
    "- Implementar voce mesmo a matemática (grafos computacionais, otimizações, etc)\n",
    "- Utilizar alguma biblioteca, com por exemplo, tensorflow\n",
    "\n",
    "A primeira opção é boa para quem esta aprendendo, mas para quem pretende colocar o projeto em produção, não seria uma boa escolha por alguns motivos, por exemplo já existem projetos prontos como tensorflow e keras =). A segunda é uma escolha viável, porém, em algmas situações, queremos fazer alguns testes, rápidos, que não demandem um controle tão \"profundo\" do que ocorre debaixo do panos.\n",
    "\n",
    "Ai entra o Keras, ele é um framework que permite uma prototipação de maneira simples, em uma tradução livre da documentação:\"feita para seres humanos, e não maquinas\"."
   ]
  },
  {
   "cell_type": "markdown",
   "metadata": {},
   "source": [
    "# 2. Instalando e importando"
   ]
  },
  {
   "cell_type": "markdown",
   "metadata": {},
   "source": [
    "Keras roda em cima de backends, hoje existem implementações para Tensorflow, CNTK ou Theano, neste post, vou usar o Tensorflow.\n",
    "\n",
    "A maneira mais fácil instalar via pip.\n",
    "\n",
    "<pre>pip install tensorflow keras</pre>"
   ]
  },
  {
   "cell_type": "markdown",
   "metadata": {},
   "source": [
    "Para importar e ver se funcionou, veja o código abaixo"
   ]
  },
  {
   "cell_type": "code",
   "execution_count": 13,
   "metadata": {},
   "outputs": [],
   "source": [
    "import tensorflow\n",
    "import keras"
   ]
  },
  {
   "cell_type": "markdown",
   "metadata": {},
   "source": [
    "Ele exibe uma mensagem falando que estamos utilizando o backend Tensorflow.\n",
    "\n",
    "Obs: Se quiser saber mais sobre Tensorflow, mande um email, posso escrever um outro post, ou veja a própria documentação, é um ótimo ponto de partida."
   ]
  },
  {
   "cell_type": "markdown",
   "metadata": {},
   "source": [
    "# 3. Dados"
   ]
  },
  {
   "cell_type": "markdown",
   "metadata": {},
   "source": [
    "Para fins didádicos, vou usar o famoso dataset MNIST, análogo ao Hello World para quem aprende alguma linguagem de programação nova.\n",
    "\n",
    "Para quem não conhece, o dataset é formado para imagems de 28x28 pixels, contendo digitos escritos a mão por pessoas e seus respectivos labels, digitos de 0 ao 9.\n",
    "\n",
    "Então vamos carregar o dataset"
   ]
  },
  {
   "cell_type": "code",
   "execution_count": 14,
   "metadata": {},
   "outputs": [],
   "source": [
    "from keras.datasets import mnist\n",
    "\n",
    "(x_train, y_train), (x_test, y_test) = mnist.load_data()"
   ]
  },
  {
   "cell_type": "markdown",
   "metadata": {},
   "source": [
    "Ao executar o código acima, ele irá fazer o download dos dados,\n",
    "e devolve os dados como duas tuples do python, a primeira contém\n",
    "os dados para treinamento, e a segunda os dados para teste."
   ]
  },
  {
   "cell_type": "markdown",
   "metadata": {},
   "source": [
    "## 3.1. Sucinta exploração dos dados"
   ]
  },
  {
   "cell_type": "code",
   "execution_count": 15,
   "metadata": {},
   "outputs": [
    {
     "data": {
      "text/plain": [
       "((60000, 28, 28), (60000,), (10000, 28, 28), (10000,))"
      ]
     },
     "execution_count": 15,
     "metadata": {},
     "output_type": "execute_result"
    }
   ],
   "source": [
    "x_train.shape, y_train.shape, x_test.shape, y_test.shape"
   ]
  },
  {
   "cell_type": "markdown",
   "metadata": {},
   "source": [
    "Dos resultados acimas, vamos que existem 60000 imagens para treino e 10000 para teste.\n",
    "\n",
    "Podemos visualizar algumas imagens para entender melhor, da seguinte maneira:"
   ]
  },
  {
   "cell_type": "code",
   "execution_count": 16,
   "metadata": {},
   "outputs": [
    {
     "data": {
      "image/png": "[encoded data removed]",
      "text/plain": [
       "<Figure size 432x288 with 10 Axes>"
      ]
     },
     "metadata": {
      "needs_background": "light"
     },
     "output_type": "display_data"
    }
   ],
   "source": [
    "import matplotlib.pyplot as plt\n",
    "\n",
    "for i in range(10):\n",
    "    plt.subplot(2, 5, i + 1)\n",
    "    imagem_pixels = x_train[i]\n",
    "    imagem_label = y_train[i]\n",
    "\n",
    "    plt.title(imagem_label)\n",
    "    plt.imshow(imagem_pixels)\n",
    "\n",
    "plt.show()"
   ]
  },
  {
   "cell_type": "markdown",
   "metadata": {},
   "source": [
    "Dai vemos algumas imagens e suas classificações."
   ]
  },
  {
   "cell_type": "markdown",
   "metadata": {},
   "source": [
    "# 4. Implementação"
   ]
  },
  {
   "cell_type": "markdown",
   "metadata": {},
   "source": [
    "Até aqui nada de Keras, somente carregamento e alguma visualização dos dados (onde normalmente se gasta mais tempo em qualquer projeto que envolva machine learning), mas agora que temos os dados prontos podemos pensar em uma rede neural básica para implementar.\n",
    "\n",
    "Vou utilizar uma versão simplificada da exibida nos videos de \n",
    "[Redes neurais do 3Blue1Brow](https://www.youtube.com/watch?v=aircAruvnKk&list=PLZHQObOWTQDNU6R1_67000Dx_ZCJB-3pi&index=1) (que são ótimos por sinal)\n",
    "\n",
    "O Keras, trabalhar em cima de modelos (models). Modelos são maneiras de especificar regras gerais que seu modelo irá seguir. E também possui alguns metodos uteis na hora de debugar sua rede, veja [modelos keras](https://keras.io/models/about-keras-models/)\n",
    "\n",
    "A mais comum, é a Sequencial (Sequential), onde a informação no momento do treinamento/uso é passada para frente (feedforward), e na hora da otimização é passando de traz para frente (backpropagation), ambas de maneira sequencia (ver imagem abaixo):\n",
    "\n",
    "<img src=\"https://www.researchgate.net/profile/Montalee_Sasananan/publication/281271367/figure/fig2/AS:284441772609536@1444827611106/Feed-Forward-Neural-Network-with-Back-Propagation.png\">\n",
    "\n",
    "Ao criarmos um modelo, adicionamos as camadas (layers). O keras vem com algumas (muitas) já implementadas, então temos camadas recorrente (recurrent layers), camadas de convolução (convolution layers), camadas densas (dense layers), entre outras, encontre mais na [seção de camadas da documentação](https://keras.io/layers/core/)."
   ]
  },
  {
   "cell_type": "markdown",
   "metadata": {},
   "source": [
    "## 4.1. Arquitetura da rede"
   ]
  },
  {
   "cell_type": "markdown",
   "metadata": {},
   "source": [
    "A rede aqui implementada, terá uma camada de input com 28x28=784 neurônios (número de pixels), uma camada de 256 com um Dropout de 0.2, e a camada de saída, contendo 10 neurônios (número de classes do dataset).\n",
    "\n",
    "Lembrando, que a quantidade de neurônios usadas é um hiperparametro, o que significa que não existe um número certo ou errado, existe aquele que se adequa ao seu problema, em geral encontra o ideal por meio de experimentos e de experiências passadas."
   ]
  },
  {
   "cell_type": "code",
   "execution_count": 17,
   "metadata": {},
   "outputs": [],
   "source": [
    "from keras.models import Sequential\n",
    "from keras.layers import Dense, Flatten, Dropout\n",
    "\n",
    "modelo = Sequential()\n",
    "modelo.add( Flatten(input_shape=(28, 28)) )\n",
    "modelo.add( Dense(256, activation=\"relu\") )\n",
    "modelo.add( Dropout(0.2) )\n",
    "modelo.add( Dense(10, activation=\"softmax\") )"
   ]
  },
  {
   "cell_type": "markdown",
   "metadata": {},
   "source": [
    "Então, acima temos a criaçao do esqueleto do modelo. Adicionamos, a camada de input, que é do tipo Flatten, o que significa que a entrada é uma matriz de 28x28 e o seu output é um vetor de dimensão 728. Que está totalmenta conectada (fully connected) coma a próxima camada, que por sinal são densas (Dense), ou seja, os 728 neurônios estão conectados com os 256, que por sua vez estão conetados com os 10 de saída.\n",
    "\n",
    "Ah, vemos o paramêtro activation. Ele é a função de ativação do neurônio, em poucas palavras, seu papel é pegar um número real, e mapea-lo no intervalo \\[0, 1\\] com certas propriedas, para mais informações [funções de ativação](https://en.wikipedia.org/wiki/Activation_function)."
   ]
  },
  {
   "cell_type": "markdown",
   "metadata": {},
   "source": [
    "## 4.2. Compilação"
   ]
  },
  {
   "cell_type": "markdown",
   "metadata": {},
   "source": [
    "Agora que temos o esquelo pronto, podemos compilar o modelo. Nesse momento, passamos as funções de otimização, a função de perda, quais metricas queremos obter durante o trinamento, entre outros, veja [seção de compilação da documentação](https://keras.io/models/model/#methods)"
   ]
  },
  {
   "cell_type": "code",
   "execution_count": 18,
   "metadata": {},
   "outputs": [],
   "source": [
    "modelo.compile(\n",
    "    optimizer=\"adam\",\n",
    "    loss=\"sparse_categorical_crossentropy\",\n",
    "    metrics=[\"accuracy\"]\n",
    ")"
   ]
  },
  {
   "cell_type": "markdown",
   "metadata": {},
   "source": [
    "Acima compilamos, e adicionamos a [função adam](https://towardsdatascience.com/adam-latest-trends-in-deep-learning-optimization-6be9a291375c) de otimizador, e a [função de entropia categorica cruzada esparsa](https://towardsdatascience.com/understanding-different-loss-functions-for-neural-networks-dd1ed0274718) (tradução livre) e por fim, queremos que nosso modelo retorne as métrica de [acurácia](https://en.wikipedia.org/wiki/Accuracy_and_precision) durante o tempo.\n",
    "\n",
    "Muito disso, é bem teórico, e esta fora do escopo desse post, mas como mencioado, posso escrever outro post, explicando cada uma dessas coisas, mande email para cavernadedados@gmail.com"
   ]
  },
  {
   "cell_type": "markdown",
   "metadata": {},
   "source": [
    "## 4.3. Treino"
   ]
  },
  {
   "cell_type": "markdown",
   "metadata": {},
   "source": [
    "Por fim, temos o modelo, compilamos e agora podemos treina-lo. Isso tambem é bem prático com Keras, com algumas poucas linhas, já podemos ver alguns resultados."
   ]
  },
  {
   "cell_type": "code",
   "execution_count": 19,
   "metadata": {},
   "outputs": [
    {
     "name": "stdout",
     "output_type": "stream",
     "text": [
      "Train on 48000 samples, validate on 12000 samples\n",
      "Epoch 1/5\n",
      "48000/48000 [==============================] - 9s 197us/step - loss: 0.2775 - acc: 0.9200 - val_loss: 0.1433 - val_acc: 0.9573\n",
      "Epoch 2/5\n",
      "48000/48000 [==============================] - 9s 181us/step - loss: 0.1252 - acc: 0.9625 - val_loss: 0.1006 - val_acc: 0.9698\n",
      "Epoch 3/5\n",
      "48000/48000 [==============================] - 9s 197us/step - loss: 0.0897 - acc: 0.9733 - val_loss: 0.0811 - val_acc: 0.9752\n",
      "Epoch 4/5\n",
      "48000/48000 [==============================] - 8s 168us/step - loss: 0.0679 - acc: 0.9793 - val_loss: 0.0862 - val_acc: 0.9741\n",
      "Epoch 5/5\n",
      "48000/48000 [==============================] - 9s 180us/step - loss: 0.0566 - acc: 0.9817 - val_loss: 0.0781 - val_acc: 0.9766\n"
     ]
    }
   ],
   "source": [
    "x_treino_preprocessado = x_train / 255.0\n",
    "epochs = 5\n",
    "\n",
    "historico = modelo.fit(\n",
    "    x_treino_preprocessado, y_train,\n",
    "    epochs = epochs,\n",
    "    validation_split = 0.2\n",
    ")"
   ]
  },
  {
   "cell_type": "markdown",
   "metadata": {},
   "source": [
    "Aqui conseguimos uma acurácia acima dos 90%, o que provavelmente não esta nada mal, mas temos de nos certificar se a rede não overfitada, ou se ocorreu algo extranho, mas essa verificação deixo a cargo do leitor. \n",
    "\n",
    "Mas por agora, temos a variável historico, que recebe alguns dados sobre o processo de treinameto da rede, vamos dar uma analisada nele:"
   ]
  },
  {
   "cell_type": "code",
   "execution_count": 20,
   "metadata": {},
   "outputs": [
    {
     "data": {
      "text/plain": [
       "{'val_loss': [0.1432636775796612,\n",
       "  0.10058167517433564,\n",
       "  0.08107063452154398,\n",
       "  0.08620727663642416,\n",
       "  0.0781276940839986],\n",
       " 'val_acc': [0.95725,\n",
       "  0.9698333333333333,\n",
       "  0.9751666666666666,\n",
       "  0.9740833333333333,\n",
       "  0.9765833333333334],\n",
       " 'loss': [0.27745917640998957,\n",
       "  0.1252085804048305,\n",
       "  0.08968349125096574,\n",
       "  0.06792198085420144,\n",
       "  0.05663824951361554],\n",
       " 'acc': [0.9200416666666666,\n",
       "  0.9625416666666666,\n",
       "  0.9732708333333333,\n",
       "  0.9793333333333333,\n",
       "  0.98175]}"
      ]
     },
     "execution_count": 20,
     "metadata": {},
     "output_type": "execute_result"
    }
   ],
   "source": [
    "historico.history"
   ]
  },
  {
   "cell_type": "markdown",
   "metadata": {},
   "source": [
    "Então vamos, que temos, a acc e val_acc, que é a acurácia no dataset de treino e o de validação (provineintes do split), respectivamente, durante as épocas. Podemos plotar e ver como se comporta:"
   ]
  },
  {
   "cell_type": "code",
   "execution_count": 21,
   "metadata": {},
   "outputs": [
    {
     "data": {
      "image/png": "[encoded data removed]",
      "text/plain": [
       "<Figure size 432x288 with 1 Axes>"
      ]
     },
     "metadata": {
      "needs_background": "light"
     },
     "output_type": "display_data"
    }
   ],
   "source": [
    "plt.title(\"Acurácia\")\n",
    "plt.plot(range(1, epochs+1), historico.history[\"acc\"], label=\"acuráca\")\n",
    "plt.plot(range(1, epochs+1 ), historico.history[\"val_acc\"], label=\"acuráca em validação\")\n",
    "plt.xlabel(\"Época\")\n",
    "plt.ylabel(\"Porcentagem\")\n",
    "plt.legend()\n",
    "plt.show()"
   ]
  },
  {
   "cell_type": "markdown",
   "metadata": {},
   "source": [
    "Podemos fazer o mesmo para a perda, da seguinte maneira:"
   ]
  },
  {
   "cell_type": "code",
   "execution_count": 22,
   "metadata": {},
   "outputs": [
    {
     "data": {
      "image/png": "[encoded data removed]",
      "text/plain": [
       "<Figure size 432x288 with 1 Axes>"
      ]
     },
     "metadata": {
      "needs_background": "light"
     },
     "output_type": "display_data"
    }
   ],
   "source": [
    "plt.title(\"Loss\")\n",
    "plt.plot(range(1, epochs+1), historico.history[\"loss\"], label=\"Perda\")\n",
    "plt.plot(range(1, epochs+1 ), historico.history[\"val_loss\"], label=\"Perda em validação\")\n",
    "plt.xlabel(\"Época\")\n",
    "plt.ylabel(\"Porcentagem\")\n",
    "plt.legend()\n",
    "plt.show()"
   ]
  },
  {
   "cell_type": "markdown",
   "metadata": {},
   "source": [
    "## 4.4. Avaliação e uso"
   ]
  },
  {
   "cell_type": "markdown",
   "metadata": {},
   "source": [
    "Enfim, temos a rede treinada, agora nos falta avaliar em dados nunca vistos e ver como fazemos predições.\n",
    "\n",
    "\n",
    "Para avaliar a rede, podemos usar o próprio método do keras, veja:"
   ]
  },
  {
   "cell_type": "code",
   "execution_count": 23,
   "metadata": {},
   "outputs": [
    {
     "name": "stdout",
     "output_type": "stream",
     "text": [
      "10000/10000 [==============================] - 0s 44us/step\n",
      "Perda do teste: 0.06675113605752121\n",
      "Acurácia do teste: 0.9788\n"
     ]
    }
   ],
   "source": [
    "(perda_teste, acuracia_teste) = modelo.evaluate(x_test / 255.0, y_test)\n",
    "\n",
    "print(\"Perda do teste:\", perda_teste)\n",
    "print(\"Acurácia do teste:\", acuracia_teste)"
   ]
  },
  {
   "cell_type": "markdown",
   "metadata": {},
   "source": [
    "E para fazer uma predição, usamos o metodo predict (muito similar a API do scikitlearn):"
   ]
  },
  {
   "cell_type": "code",
   "execution_count": 24,
   "metadata": {},
   "outputs": [
    {
     "name": "stdout",
     "output_type": "stream",
     "text": [
      "Predição: 6\n",
      "Real: 6\n"
     ]
    }
   ],
   "source": [
    "import numpy as np\n",
    "\n",
    "index = 3000\n",
    "predicoes = modelo.predict( np.array([x_test[index] / 255.0]) )\n",
    "print(\"Predição:\", np.argmax(predicoes[0]))\n",
    "print(\"Real:\", y_test[index])"
   ]
  },
  {
   "cell_type": "markdown",
   "metadata": {},
   "source": [
    "# Conclusão"
   ]
  },
  {
   "cell_type": "markdown",
   "metadata": {},
   "source": [
    "Criamos um modelos que reconhece digitos de uma imagem, que uma acurácia acima de 90% com poucas linhas de código, esse é o principal ganho quando se usa Keras, ele permiter uma prototipação rápida, pois como mencionado na sua [home](https://keras.io/), \"Being able to go from idea to result with the least possible delay is key to doing good research.\" (ser capaz de partir de uma ideia até um resultado no menor tempo possível é a chave para uma pesquisa \\[tradução livre\\])\n",
    "\n",
    "Então da próxima vez que precisar implementar uma rede neural, talvez vc possa colocar o Keras na sua caixa de ferramentas possiveis para resolver seu problema."
   ]
  },
  {
   "cell_type": "markdown",
   "metadata": {},
   "source": [
    "# Referências"
   ]
  },
  {
   "cell_type": "markdown",
   "metadata": {},
   "source": [
    "- https://keras.io/\n",
    "- http://neuralnetworksanddeeplearning.com/chap1.html\n",
    "- https://www.alura.com.br/curso-online-deep-learning-introducao-com-keras\n",
    "- https://www.3blue1brown.com/neural-networks"
   ]
  }
 ],
 "metadata": {
  "kernelspec": {
   "display_name": "Python 3",
   "language": "python",
   "name": "python3"
  },
  "language_info": {
   "codemirror_mode": {
    "name": "ipython",
    "version": 3
   },
   "file_extension": ".py",
   "mimetype": "text/x-python",
   "name": "python",
   "nbconvert_exporter": "python",
   "pygments_lexer": "ipython3",
   "version": "3.7.3"
  }
 },
 "nbformat": 4,
 "nbformat_minor": 2
}
